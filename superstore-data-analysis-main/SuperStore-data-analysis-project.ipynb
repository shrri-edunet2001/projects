{
 "cells": [
  {
   "cell_type": "code",
   "execution_count": 1,
   "metadata": {
    "executionInfo": {
     "elapsed": 1101,
     "status": "ok",
     "timestamp": 1666127596098,
     "user": {
      "displayName": "Dennis Owusu",
      "userId": "14799459675218623683"
     },
     "user_tz": 0
    },
    "id": "0sZxS_mynOnq"
   },
   "outputs": [],
   "source": [
    "import pandas as pd\n",
    "import numpy as np\n",
    "import matplotlib.pyplot as plt\n",
    "import seaborn as sns"
   ]
  },
  {
   "cell_type": "code",
   "execution_count": 2,
   "metadata": {
    "executionInfo": {
     "elapsed": 62,
     "status": "ok",
     "timestamp": 1666127596099,
     "user": {
      "displayName": "Dennis Owusu",
      "userId": "14799459675218623683"
     },
     "user_tz": 0
    },
    "id": "zvUmZEhvnOnt",
    "scrolled": true
   },
   "outputs": [
    {
     "data": {
      "text/html": [
       "<div>\n",
       "<style scoped>\n",
       "    .dataframe tbody tr th:only-of-type {\n",
       "        vertical-align: middle;\n",
       "    }\n",
       "\n",
       "    .dataframe tbody tr th {\n",
       "        vertical-align: top;\n",
       "    }\n",
       "\n",
       "    .dataframe thead th {\n",
       "        text-align: right;\n",
       "    }\n",
       "</style>\n",
       "<table border=\"1\" class=\"dataframe\">\n",
       "  <thead>\n",
       "    <tr style=\"text-align: right;\">\n",
       "      <th></th>\n",
       "      <th>Order ID</th>\n",
       "      <th>Order Date</th>\n",
       "      <th>Ship Date</th>\n",
       "      <th>Ship Mode</th>\n",
       "      <th>Customer ID</th>\n",
       "      <th>Customer Name</th>\n",
       "      <th>Segment</th>\n",
       "      <th>Country</th>\n",
       "      <th>City</th>\n",
       "      <th>State</th>\n",
       "      <th>Postal Code</th>\n",
       "      <th>Region</th>\n",
       "      <th>Product ID</th>\n",
       "      <th>Category</th>\n",
       "      <th>Sub-Category</th>\n",
       "      <th>Product Name</th>\n",
       "      <th>Sales</th>\n",
       "      <th>Quantity</th>\n",
       "      <th>Discount</th>\n",
       "      <th>Profit</th>\n",
       "    </tr>\n",
       "    <tr>\n",
       "      <th>Row ID</th>\n",
       "      <th></th>\n",
       "      <th></th>\n",
       "      <th></th>\n",
       "      <th></th>\n",
       "      <th></th>\n",
       "      <th></th>\n",
       "      <th></th>\n",
       "      <th></th>\n",
       "      <th></th>\n",
       "      <th></th>\n",
       "      <th></th>\n",
       "      <th></th>\n",
       "      <th></th>\n",
       "      <th></th>\n",
       "      <th></th>\n",
       "      <th></th>\n",
       "      <th></th>\n",
       "      <th></th>\n",
       "      <th></th>\n",
       "      <th></th>\n",
       "    </tr>\n",
       "  </thead>\n",
       "  <tbody>\n",
       "    <tr>\n",
       "      <th>1</th>\n",
       "      <td>CA-2016-152156</td>\n",
       "      <td>11/8/2016</td>\n",
       "      <td>11/11/2016</td>\n",
       "      <td>Second Class</td>\n",
       "      <td>CG-12520</td>\n",
       "      <td>Claire Gute</td>\n",
       "      <td>Consumer</td>\n",
       "      <td>United States</td>\n",
       "      <td>Henderson</td>\n",
       "      <td>Kentucky</td>\n",
       "      <td>42420</td>\n",
       "      <td>South</td>\n",
       "      <td>FUR-BO-10001798</td>\n",
       "      <td>Furniture</td>\n",
       "      <td>Bookcases</td>\n",
       "      <td>Bush Somerset Collection Bookcase</td>\n",
       "      <td>261.96</td>\n",
       "      <td>2</td>\n",
       "      <td>0.0</td>\n",
       "      <td>41.9136</td>\n",
       "    </tr>\n",
       "  </tbody>\n",
       "</table>\n",
       "</div>"
      ],
      "text/plain": [
       "              Order ID Order Date   Ship Date     Ship Mode Customer ID  \\\n",
       "Row ID                                                                    \n",
       "1       CA-2016-152156  11/8/2016  11/11/2016  Second Class    CG-12520   \n",
       "\n",
       "       Customer Name   Segment        Country       City     State  \\\n",
       "Row ID                                                               \n",
       "1        Claire Gute  Consumer  United States  Henderson  Kentucky   \n",
       "\n",
       "        Postal Code Region       Product ID   Category Sub-Category  \\\n",
       "Row ID                                                                \n",
       "1             42420  South  FUR-BO-10001798  Furniture    Bookcases   \n",
       "\n",
       "                             Product Name   Sales  Quantity  Discount   Profit  \n",
       "Row ID                                                                          \n",
       "1       Bush Somerset Collection Bookcase  261.96         2       0.0  41.9136  "
      ]
     },
     "execution_count": 2,
     "metadata": {},
     "output_type": "execute_result"
    }
   ],
   "source": [
    "df = pd.read_csv('G:\\IBM Projects\\superstore-data-analysis-main\\Superstore-Data-Analysis.csv', index_col='Row ID', encoding='windows-1254')\n",
    "df.head(1)"
   ]
  },
  {
   "cell_type": "code",
   "execution_count": 3,
   "metadata": {
    "colab": {
     "base_uri": "https://localhost:8080/"
    },
    "executionInfo": {
     "elapsed": 60,
     "status": "ok",
     "timestamp": 1666127596101,
     "user": {
      "displayName": "Dennis Owusu",
      "userId": "14799459675218623683"
     },
     "user_tz": 0
    },
    "id": "XtkviVSpnOnx",
    "outputId": "63d77eb1-daa0-41cb-85f3-323ce8743013"
   },
   "outputs": [
    {
     "data": {
      "text/plain": [
       "(9994, 20)"
      ]
     },
     "execution_count": 3,
     "metadata": {},
     "output_type": "execute_result"
    }
   ],
   "source": [
    "df.shape"
   ]
  },
  {
   "cell_type": "code",
   "execution_count": 4,
   "metadata": {
    "executionInfo": {
     "elapsed": 50,
     "status": "ok",
     "timestamp": 1666127596103,
     "user": {
      "displayName": "Dennis Owusu",
      "userId": "14799459675218623683"
     },
     "user_tz": 0
    },
    "id": "Wa065DV6nOn2"
   },
   "outputs": [],
   "source": [
    "df.columns = ['OrderID','OrderDate', 'ShipDate', 'ShipMode', 'CustomerID', 'CustomerName', 'Segment' ,\n",
    "                         'Country', 'City', 'State', 'PostalCode', 'Region', 'ProductID', 'Category', 'SubCategory',\n",
    "                         'ProductName' , 'DiscountedSales', 'Quantity', 'Discount(%)', 'Profit']"
   ]
  },
  {
   "cell_type": "code",
   "execution_count": 5,
   "metadata": {
    "colab": {
     "base_uri": "https://localhost:8080/"
    },
    "executionInfo": {
     "elapsed": 47,
     "status": "ok",
     "timestamp": 1666127596106,
     "user": {
      "displayName": "Dennis Owusu",
      "userId": "14799459675218623683"
     },
     "user_tz": 0
    },
    "id": "6ypLbFq4nOn9",
    "outputId": "1f0c7750-cd53-4eb8-afb0-bfe3c5b02cc7"
   },
   "outputs": [
    {
     "name": "stdout",
     "output_type": "stream",
     "text": [
      "<class 'pandas.core.frame.DataFrame'>\n",
      "Index: 9994 entries, 1 to 9994\n",
      "Data columns (total 20 columns):\n",
      " #   Column           Non-Null Count  Dtype  \n",
      "---  ------           --------------  -----  \n",
      " 0   OrderID          9994 non-null   object \n",
      " 1   OrderDate        9994 non-null   object \n",
      " 2   ShipDate         9994 non-null   object \n",
      " 3   ShipMode         9994 non-null   object \n",
      " 4   CustomerID       9994 non-null   object \n",
      " 5   CustomerName     9994 non-null   object \n",
      " 6   Segment          9994 non-null   object \n",
      " 7   Country          9994 non-null   object \n",
      " 8   City             9994 non-null   object \n",
      " 9   State            9994 non-null   object \n",
      " 10  PostalCode       9994 non-null   int64  \n",
      " 11  Region           9994 non-null   object \n",
      " 12  ProductID        9994 non-null   object \n",
      " 13  Category         9994 non-null   object \n",
      " 14  SubCategory      9994 non-null   object \n",
      " 15  ProductName      9994 non-null   object \n",
      " 16  DiscountedSales  9994 non-null   float64\n",
      " 17  Quantity         9994 non-null   int64  \n",
      " 18  Discount(%)      9994 non-null   float64\n",
      " 19  Profit           9994 non-null   float64\n",
      "dtypes: float64(3), int64(2), object(15)\n",
      "memory usage: 1.6+ MB\n"
     ]
    }
   ],
   "source": [
    "df.info()"
   ]
  },
  {
   "cell_type": "code",
   "execution_count": 6,
   "metadata": {
    "colab": {
     "base_uri": "https://localhost:8080/"
    },
    "executionInfo": {
     "elapsed": 39,
     "status": "ok",
     "timestamp": 1666127596107,
     "user": {
      "displayName": "Dennis Owusu",
      "userId": "14799459675218623683"
     },
     "user_tz": 0
    },
    "id": "HhrVURTPnOn-",
    "outputId": "4823975e-690c-45cd-8e37-7981bb59b743"
   },
   "outputs": [
    {
     "data": {
      "text/plain": [
       "np.int64(2)"
      ]
     },
     "execution_count": 6,
     "metadata": {},
     "output_type": "execute_result"
    }
   ],
   "source": [
    "duplicates = df.duplicated(keep = False)\n",
    "duplicates.sum()"
   ]
  },
  {
   "cell_type": "code",
   "execution_count": 7,
   "metadata": {
    "executionInfo": {
     "elapsed": 32,
     "status": "ok",
     "timestamp": 1666127596110,
     "user": {
      "displayName": "Dennis Owusu",
      "userId": "14799459675218623683"
     },
     "user_tz": 0
    },
    "id": "vlhcDQT1nOoB"
   },
   "outputs": [
    {
     "data": {
      "text/html": [
       "<div>\n",
       "<style scoped>\n",
       "    .dataframe tbody tr th:only-of-type {\n",
       "        vertical-align: middle;\n",
       "    }\n",
       "\n",
       "    .dataframe tbody tr th {\n",
       "        vertical-align: top;\n",
       "    }\n",
       "\n",
       "    .dataframe thead th {\n",
       "        text-align: right;\n",
       "    }\n",
       "</style>\n",
       "<table border=\"1\" class=\"dataframe\">\n",
       "  <thead>\n",
       "    <tr style=\"text-align: right;\">\n",
       "      <th></th>\n",
       "      <th>OrderID</th>\n",
       "      <th>OrderDate</th>\n",
       "      <th>ShipDate</th>\n",
       "      <th>ShipMode</th>\n",
       "      <th>CustomerID</th>\n",
       "      <th>CustomerName</th>\n",
       "      <th>Segment</th>\n",
       "      <th>Country</th>\n",
       "      <th>City</th>\n",
       "      <th>State</th>\n",
       "      <th>PostalCode</th>\n",
       "      <th>Region</th>\n",
       "      <th>ProductID</th>\n",
       "      <th>Category</th>\n",
       "      <th>SubCategory</th>\n",
       "      <th>ProductName</th>\n",
       "      <th>DiscountedSales</th>\n",
       "      <th>Quantity</th>\n",
       "      <th>Discount(%)</th>\n",
       "      <th>Profit</th>\n",
       "    </tr>\n",
       "    <tr>\n",
       "      <th>Row ID</th>\n",
       "      <th></th>\n",
       "      <th></th>\n",
       "      <th></th>\n",
       "      <th></th>\n",
       "      <th></th>\n",
       "      <th></th>\n",
       "      <th></th>\n",
       "      <th></th>\n",
       "      <th></th>\n",
       "      <th></th>\n",
       "      <th></th>\n",
       "      <th></th>\n",
       "      <th></th>\n",
       "      <th></th>\n",
       "      <th></th>\n",
       "      <th></th>\n",
       "      <th></th>\n",
       "      <th></th>\n",
       "      <th></th>\n",
       "      <th></th>\n",
       "    </tr>\n",
       "  </thead>\n",
       "  <tbody>\n",
       "    <tr>\n",
       "      <th>3406</th>\n",
       "      <td>US-2014-150119</td>\n",
       "      <td>4/23/2014</td>\n",
       "      <td>4/27/2014</td>\n",
       "      <td>Standard Class</td>\n",
       "      <td>LB-16795</td>\n",
       "      <td>Laurel Beltran</td>\n",
       "      <td>Home Office</td>\n",
       "      <td>United States</td>\n",
       "      <td>Columbus</td>\n",
       "      <td>Ohio</td>\n",
       "      <td>43229</td>\n",
       "      <td>East</td>\n",
       "      <td>FUR-CH-10002965</td>\n",
       "      <td>Furniture</td>\n",
       "      <td>Chairs</td>\n",
       "      <td>Global Leather Highback Executive Chair with P...</td>\n",
       "      <td>281.372</td>\n",
       "      <td>2</td>\n",
       "      <td>0.3</td>\n",
       "      <td>-12.0588</td>\n",
       "    </tr>\n",
       "    <tr>\n",
       "      <th>3407</th>\n",
       "      <td>US-2014-150119</td>\n",
       "      <td>4/23/2014</td>\n",
       "      <td>4/27/2014</td>\n",
       "      <td>Standard Class</td>\n",
       "      <td>LB-16795</td>\n",
       "      <td>Laurel Beltran</td>\n",
       "      <td>Home Office</td>\n",
       "      <td>United States</td>\n",
       "      <td>Columbus</td>\n",
       "      <td>Ohio</td>\n",
       "      <td>43229</td>\n",
       "      <td>East</td>\n",
       "      <td>FUR-CH-10002965</td>\n",
       "      <td>Furniture</td>\n",
       "      <td>Chairs</td>\n",
       "      <td>Global Leather Highback Executive Chair with P...</td>\n",
       "      <td>281.372</td>\n",
       "      <td>2</td>\n",
       "      <td>0.3</td>\n",
       "      <td>-12.0588</td>\n",
       "    </tr>\n",
       "  </tbody>\n",
       "</table>\n",
       "</div>"
      ],
      "text/plain": [
       "               OrderID  OrderDate   ShipDate        ShipMode CustomerID  \\\n",
       "Row ID                                                                    \n",
       "3406    US-2014-150119  4/23/2014  4/27/2014  Standard Class   LB-16795   \n",
       "3407    US-2014-150119  4/23/2014  4/27/2014  Standard Class   LB-16795   \n",
       "\n",
       "          CustomerName      Segment        Country      City State  \\\n",
       "Row ID                                                               \n",
       "3406    Laurel Beltran  Home Office  United States  Columbus  Ohio   \n",
       "3407    Laurel Beltran  Home Office  United States  Columbus  Ohio   \n",
       "\n",
       "        PostalCode Region        ProductID   Category SubCategory  \\\n",
       "Row ID                                                              \n",
       "3406         43229   East  FUR-CH-10002965  Furniture      Chairs   \n",
       "3407         43229   East  FUR-CH-10002965  Furniture      Chairs   \n",
       "\n",
       "                                              ProductName  DiscountedSales  \\\n",
       "Row ID                                                                       \n",
       "3406    Global Leather Highback Executive Chair with P...          281.372   \n",
       "3407    Global Leather Highback Executive Chair with P...          281.372   \n",
       "\n",
       "        Quantity  Discount(%)   Profit  \n",
       "Row ID                                  \n",
       "3406           2          0.3 -12.0588  \n",
       "3407           2          0.3 -12.0588  "
      ]
     },
     "execution_count": 7,
     "metadata": {},
     "output_type": "execute_result"
    }
   ],
   "source": [
    "# Sort your duplicated sales to see duplicated values\n",
    "duplicated_sales = df[duplicates].sort_values('Row ID')\n",
    "duplicated_sales"
   ]
  },
  {
   "cell_type": "code",
   "execution_count": 8,
   "metadata": {
    "executionInfo": {
     "elapsed": 77,
     "status": "ok",
     "timestamp": 1666127596820,
     "user": {
      "displayName": "Dennis Owusu",
      "userId": "14799459675218623683"
     },
     "user_tz": 0
    },
    "id": "s4A8yG7snOoG"
   },
   "outputs": [
    {
     "data": {
      "text/plain": [
       "np.int64(0)"
      ]
     },
     "execution_count": 8,
     "metadata": {},
     "output_type": "execute_result"
    }
   ],
   "source": [
    "df.drop_duplicates(keep = 'first',ignore_index = True,inplace=True)\n",
    "df.duplicated(keep = False).unique() \n",
    "df.duplicated().sum()"
   ]
  },
  {
   "cell_type": "code",
   "execution_count": 9,
   "metadata": {
    "colab": {
     "base_uri": "https://localhost:8080/"
    },
    "executionInfo": {
     "elapsed": 60,
     "status": "ok",
     "timestamp": 1666127596825,
     "user": {
      "displayName": "Dennis Owusu",
      "userId": "14799459675218623683"
     },
     "user_tz": 0
    },
    "id": "uBUVxrymnOoK",
    "outputId": "c56ef221-5e31-457e-9ffe-7e2dcaa22f27",
    "scrolled": true
   },
   "outputs": [
    {
     "data": {
      "text/plain": [
       "count               9993\n",
       "unique              5009\n",
       "top       CA-2017-100111\n",
       "freq                  14\n",
       "Name: OrderID, dtype: object"
      ]
     },
     "execution_count": 9,
     "metadata": {},
     "output_type": "execute_result"
    }
   ],
   "source": [
    "df['OrderID'].describe() "
   ]
  },
  {
   "cell_type": "code",
   "execution_count": 10,
   "metadata": {},
   "outputs": [
    {
     "data": {
      "text/plain": [
       "dtype('O')"
      ]
     },
     "execution_count": 10,
     "metadata": {},
     "output_type": "execute_result"
    }
   ],
   "source": [
    "df['OrderID'].dtype   "
   ]
  },
  {
   "cell_type": "code",
   "execution_count": 11,
   "metadata": {
    "colab": {
     "base_uri": "https://localhost:8080/"
    },
    "executionInfo": {
     "elapsed": 52,
     "status": "ok",
     "timestamp": 1666127596827,
     "user": {
      "displayName": "Dennis Owusu",
      "userId": "14799459675218623683"
     },
     "user_tz": 0
    },
    "id": "nmE_mfFUnOoM",
    "outputId": "7cc08248-cc8b-4591-c2b0-113fc793a973"
   },
   "outputs": [
    {
     "data": {
      "text/plain": [
       "dtype('O')"
      ]
     },
     "execution_count": 11,
     "metadata": {},
     "output_type": "execute_result"
    }
   ],
   "source": [
    "df['OrderDate'].dtype  #checking the datatype of the OrderDate Column"
   ]
  },
  {
   "cell_type": "code",
   "execution_count": 12,
   "metadata": {
    "executionInfo": {
     "elapsed": 52,
     "status": "ok",
     "timestamp": 1666127596826,
     "user": {
      "displayName": "Dennis Owusu",
      "userId": "14799459675218623683"
     },
     "user_tz": 0
    },
    "id": "JFZrlwfwnOoL"
   },
   "outputs": [
    {
     "data": {
      "text/plain": [
       "dtype('<M8[ns]')"
      ]
     },
     "execution_count": 12,
     "metadata": {},
     "output_type": "execute_result"
    }
   ],
   "source": [
    "df['OrderDate'] = pd.to_datetime(df['OrderDate'])   # Converting into the date to the correct datatype\n",
    "df['OrderDate'].dtype"
   ]
  },
  {
   "cell_type": "code",
   "execution_count": 13,
   "metadata": {
    "executionInfo": {
     "elapsed": 51,
     "status": "ok",
     "timestamp": 1666127596828,
     "user": {
      "displayName": "Dennis Owusu",
      "userId": "14799459675218623683"
     },
     "user_tz": 0
    },
    "id": "DaaIB8c7nOoN"
   },
   "outputs": [
    {
     "data": {
      "text/plain": [
       "dtype('<M8[ns]')"
      ]
     },
     "execution_count": 13,
     "metadata": {},
     "output_type": "execute_result"
    }
   ],
   "source": [
    "df['ShipDate'] = pd.to_datetime(df['ShipDate'])    #checking the datatype of the ShipDate Column\n",
    "df['ShipDate'].dtype"
   ]
  },
  {
   "cell_type": "code",
   "execution_count": 14,
   "metadata": {
    "colab": {
     "base_uri": "https://localhost:8080/"
    },
    "executionInfo": {
     "elapsed": 51,
     "status": "ok",
     "timestamp": 1666127596830,
     "user": {
      "displayName": "Dennis Owusu",
      "userId": "14799459675218623683"
     },
     "user_tz": 0
    },
    "id": "3-r56wUInOoP",
    "outputId": "c28b30f1-b3ef-4932-a44f-144c6330bbfe"
   },
   "outputs": [
    {
     "data": {
      "text/plain": [
       "array(['Second Class', 'Standard Class', 'First Class', 'Same Day'],\n",
       "      dtype=object)"
      ]
     },
     "execution_count": 14,
     "metadata": {},
     "output_type": "execute_result"
    }
   ],
   "source": [
    "df['ShipMode'].unique()"
   ]
  },
  {
   "cell_type": "code",
   "execution_count": 15,
   "metadata": {
    "executionInfo": {
     "elapsed": 50,
     "status": "ok",
     "timestamp": 1666127596830,
     "user": {
      "displayName": "Dennis Owusu",
      "userId": "14799459675218623683"
     },
     "user_tz": 0
    },
    "id": "qnk8AIyYq_cR"
   },
   "outputs": [
    {
     "data": {
      "text/plain": [
       "CategoricalDtype(categories=['First Class', 'Same Day', 'Second Class', 'Standard Class'], ordered=False, categories_dtype=object)"
      ]
     },
     "execution_count": 15,
     "metadata": {},
     "output_type": "execute_result"
    }
   ],
   "source": [
    "df['ShipMode'] = df['ShipMode'].astype('category')    # Changing to datatype to category\n",
    "df['ShipMode'].dtype"
   ]
  },
  {
   "cell_type": "code",
   "execution_count": 16,
   "metadata": {
    "colab": {
     "base_uri": "https://localhost:8080/"
    },
    "executionInfo": {
     "elapsed": 49,
     "status": "ok",
     "timestamp": 1666127596831,
     "user": {
      "displayName": "Dennis Owusu",
      "userId": "14799459675218623683"
     },
     "user_tz": 0
    },
    "id": "RyrLEOJmnOoP",
    "outputId": "54ecfb87-a42e-45c0-8b1d-c935d4ddaa04"
   },
   "outputs": [
    {
     "data": {
      "text/plain": [
       "count               9993\n",
       "unique                 4\n",
       "top       Standard Class\n",
       "freq                5967\n",
       "Name: ShipMode, dtype: object"
      ]
     },
     "execution_count": 16,
     "metadata": {},
     "output_type": "execute_result"
    }
   ],
   "source": [
    "df['ShipMode'].describe()   #summary statistcs of the ShipMode Column"
   ]
  },
  {
   "cell_type": "code",
   "execution_count": 17,
   "metadata": {
    "colab": {
     "base_uri": "https://localhost:8080/"
    },
    "executionInfo": {
     "elapsed": 43,
     "status": "ok",
     "timestamp": 1666127596833,
     "user": {
      "displayName": "Dennis Owusu",
      "userId": "14799459675218623683"
     },
     "user_tz": 0
    },
    "id": "Xf5Nn6y0nOoQ",
    "outputId": "93f5d503-4205-4d93-a485-33fc63a58441"
   },
   "outputs": [
    {
     "data": {
      "text/plain": [
       "793"
      ]
     },
     "execution_count": 17,
     "metadata": {},
     "output_type": "execute_result"
    }
   ],
   "source": [
    "df['CustomerID'].nunique()"
   ]
  },
  {
   "cell_type": "code",
   "execution_count": 18,
   "metadata": {
    "colab": {
     "base_uri": "https://localhost:8080/"
    },
    "executionInfo": {
     "elapsed": 43,
     "status": "ok",
     "timestamp": 1666127596835,
     "user": {
      "displayName": "Dennis Owusu",
      "userId": "14799459675218623683"
     },
     "user_tz": 0
    },
    "id": "0J34GQ0dnOoR",
    "outputId": "b97a8d50-2fe2-4d26-8018-610b713ba302"
   },
   "outputs": [
    {
     "data": {
      "text/plain": [
       "count         9993\n",
       "unique         793\n",
       "top       WB-21850\n",
       "freq            37\n",
       "Name: CustomerID, dtype: object"
      ]
     },
     "execution_count": 18,
     "metadata": {},
     "output_type": "execute_result"
    }
   ],
   "source": [
    "df['CustomerID'].describe()    #checking summary statistics of the Customer ID column"
   ]
  },
  {
   "cell_type": "code",
   "execution_count": 19,
   "metadata": {
    "colab": {
     "base_uri": "https://localhost:8080/"
    },
    "executionInfo": {
     "elapsed": 40,
     "status": "ok",
     "timestamp": 1666127596836,
     "user": {
      "displayName": "Dennis Owusu",
      "userId": "14799459675218623683"
     },
     "user_tz": 0
    },
    "id": "SG0eAXuKnOoS",
    "outputId": "0a81a1bd-cf29-4314-b1dc-8c685e91c073"
   },
   "outputs": [
    {
     "data": {
      "text/plain": [
       "count              9993\n",
       "unique              793\n",
       "top       William Brown\n",
       "freq                 37\n",
       "Name: CustomerName, dtype: object"
      ]
     },
     "execution_count": 19,
     "metadata": {},
     "output_type": "execute_result"
    }
   ],
   "source": [
    "df['CustomerName'].describe()   #checking summary statistics of the Customer Name column"
   ]
  },
  {
   "cell_type": "code",
   "execution_count": 20,
   "metadata": {
    "colab": {
     "base_uri": "https://localhost:8080/"
    },
    "executionInfo": {
     "elapsed": 40,
     "status": "ok",
     "timestamp": 1666127596837,
     "user": {
      "displayName": "Dennis Owusu",
      "userId": "14799459675218623683"
     },
     "user_tz": 0
    },
    "id": "nI5PEXl3nOoS",
    "outputId": "1fb9c04c-6566-49e5-acd6-1072540066e0"
   },
   "outputs": [
    {
     "data": {
      "text/plain": [
       "count         9993\n",
       "unique           3\n",
       "top       Consumer\n",
       "freq          5191\n",
       "Name: Segment, dtype: object"
      ]
     },
     "execution_count": 20,
     "metadata": {},
     "output_type": "execute_result"
    }
   ],
   "source": [
    "df['Segment'].describe()    #checking summary statistics of the Segment column"
   ]
  },
  {
   "cell_type": "code",
   "execution_count": 21,
   "metadata": {
    "executionInfo": {
     "elapsed": 39,
     "status": "ok",
     "timestamp": 1666127596838,
     "user": {
      "displayName": "Dennis Owusu",
      "userId": "14799459675218623683"
     },
     "user_tz": 0
    },
    "id": "qGEbazHDsUi3"
   },
   "outputs": [
    {
     "data": {
      "text/plain": [
       "CategoricalDtype(categories=['Consumer', 'Corporate', 'Home Office'], ordered=False, categories_dtype=object)"
      ]
     },
     "execution_count": 21,
     "metadata": {},
     "output_type": "execute_result"
    }
   ],
   "source": [
    "df['Segment'] = df['Segment'].astype('category')  #changing the datatype of the segment column from object to category dtype\n",
    "df['Segment'].dtype"
   ]
  },
  {
   "cell_type": "code",
   "execution_count": 22,
   "metadata": {
    "colab": {
     "base_uri": "https://localhost:8080/"
    },
    "executionInfo": {
     "elapsed": 21,
     "status": "ok",
     "timestamp": 1666127597258,
     "user": {
      "displayName": "Dennis Owusu",
      "userId": "14799459675218623683"
     },
     "user_tz": 0
    },
    "id": "RJVwzrvUnOoU",
    "outputId": "2cb4ab56-3bbb-41fb-f79f-b6906fe0b5ea",
    "scrolled": true
   },
   "outputs": [
    {
     "data": {
      "text/plain": [
       "count              9993\n",
       "unique              531\n",
       "top       New York City\n",
       "freq                915\n",
       "Name: City, dtype: object"
      ]
     },
     "execution_count": 22,
     "metadata": {},
     "output_type": "execute_result"
    }
   ],
   "source": [
    "df['City'].describe()      #checking summary statistics of the City column"
   ]
  },
  {
   "cell_type": "code",
   "execution_count": 23,
   "metadata": {
    "colab": {
     "base_uri": "https://localhost:8080/"
    },
    "executionInfo": {
     "elapsed": 17,
     "status": "ok",
     "timestamp": 1666127597259,
     "user": {
      "displayName": "Dennis Owusu",
      "userId": "14799459675218623683"
     },
     "user_tz": 0
    },
    "id": "CCZWMGx1nOoU",
    "outputId": "a2deb40b-0341-4710-d3ac-ae018f18dd9e"
   },
   "outputs": [
    {
     "data": {
      "text/plain": [
       "count           9993\n",
       "unique            49\n",
       "top       California\n",
       "freq            2001\n",
       "Name: State, dtype: object"
      ]
     },
     "execution_count": 23,
     "metadata": {},
     "output_type": "execute_result"
    }
   ],
   "source": [
    "df['State'].describe()     #checking summary statistics of the State column    "
   ]
  },
  {
   "cell_type": "code",
   "execution_count": 24,
   "metadata": {
    "executionInfo": {
     "elapsed": 26,
     "status": "ok",
     "timestamp": 1666127598007,
     "user": {
      "displayName": "Dennis Owusu",
      "userId": "14799459675218623683"
     },
     "user_tz": 0
    },
    "id": "VsLOpAxYnOoV"
   },
   "outputs": [
    {
     "data": {
      "text/plain": [
       "count      9993\n",
       "unique      631\n",
       "top       10035\n",
       "freq        263\n",
       "Name: PostalCode, dtype: object"
      ]
     },
     "execution_count": 24,
     "metadata": {},
     "output_type": "execute_result"
    }
   ],
   "source": [
    "df['PostalCode'] = df['PostalCode'].astype('str')   # Changing PostalCode from int to str\n",
    "df['PostalCode'].describe()       #checking summary statistics of the PostalCode column"
   ]
  },
  {
   "cell_type": "code",
   "execution_count": 25,
   "metadata": {
    "colab": {
     "base_uri": "https://localhost:8080/"
    },
    "executionInfo": {
     "elapsed": 19,
     "status": "ok",
     "timestamp": 1666127598009,
     "user": {
      "displayName": "Dennis Owusu",
      "userId": "14799459675218623683"
     },
     "user_tz": 0
    },
    "id": "XMQZDAStnOoW",
    "outputId": "f9b35589-279a-4e2d-c12a-d622801d592d"
   },
   "outputs": [
    {
     "data": {
      "text/plain": [
       "count     9993\n",
       "unique       4\n",
       "top       West\n",
       "freq      3203\n",
       "Name: Region, dtype: object"
      ]
     },
     "execution_count": 25,
     "metadata": {},
     "output_type": "execute_result"
    }
   ],
   "source": [
    "df['Region'].describe()        #checking summary statistics of the Region column    "
   ]
  },
  {
   "cell_type": "code",
   "execution_count": 26,
   "metadata": {
    "colab": {
     "base_uri": "https://localhost:8080/"
    },
    "executionInfo": {
     "elapsed": 18,
     "status": "ok",
     "timestamp": 1666127598011,
     "user": {
      "displayName": "Dennis Owusu",
      "userId": "14799459675218623683"
     },
     "user_tz": 0
    },
    "id": "7ruEmFDDnOoX",
    "outputId": "7dae08db-c11b-4c11-8ac6-cc9d3807ee48"
   },
   "outputs": [
    {
     "data": {
      "text/plain": [
       "count                9993\n",
       "unique               1862\n",
       "top       OFF-PA-10001970\n",
       "freq                   19\n",
       "Name: ProductID, dtype: object"
      ]
     },
     "execution_count": 26,
     "metadata": {},
     "output_type": "execute_result"
    }
   ],
   "source": [
    "df['ProductID'].describe()      #checking summary statistics of the ProductID column"
   ]
  },
  {
   "cell_type": "code",
   "execution_count": 27,
   "metadata": {
    "colab": {
     "base_uri": "https://localhost:8080/"
    },
    "executionInfo": {
     "elapsed": 906,
     "status": "ok",
     "timestamp": 1666127598900,
     "user": {
      "displayName": "Dennis Owusu",
      "userId": "14799459675218623683"
     },
     "user_tz": 0
    },
    "id": "vJv9oiQinOoZ",
    "outputId": "dd05dc71-c2cd-4e96-8473-a3a274f92af0"
   },
   "outputs": [
    {
     "data": {
      "text/plain": [
       "count                9993\n",
       "unique               1850\n",
       "top       Staple envelope\n",
       "freq                   48\n",
       "Name: ProductName, dtype: object"
      ]
     },
     "execution_count": 27,
     "metadata": {},
     "output_type": "execute_result"
    }
   ],
   "source": [
    "df['ProductName'].describe()    #checking summary statistics of the ProductName column"
   ]
  },
  {
   "cell_type": "code",
   "execution_count": 28,
   "metadata": {
    "colab": {
     "base_uri": "https://localhost:8080/"
    },
    "executionInfo": {
     "elapsed": 92,
     "status": "ok",
     "timestamp": 1666127598901,
     "user": {
      "displayName": "Dennis Owusu",
      "userId": "14799459675218623683"
     },
     "user_tz": 0
    },
    "id": "yrJ6usFfnOoZ",
    "outputId": "25129100-239d-441d-8552-93fd8d758895"
   },
   "outputs": [
    {
     "data": {
      "text/plain": [
       "count                9993\n",
       "unique                  3\n",
       "top       Office Supplies\n",
       "freq                 6026\n",
       "Name: Category, dtype: object"
      ]
     },
     "execution_count": 28,
     "metadata": {},
     "output_type": "execute_result"
    }
   ],
   "source": [
    "df['Category'].describe()  #checking summary statistics of the Category column"
   ]
  },
  {
   "cell_type": "code",
   "execution_count": 29,
   "metadata": {
    "executionInfo": {
     "elapsed": 89,
     "status": "ok",
     "timestamp": 1666127598903,
     "user": {
      "displayName": "Dennis Owusu",
      "userId": "14799459675218623683"
     },
     "user_tz": 0
    },
    "id": "aUOd-oAqnOoa"
   },
   "outputs": [
    {
     "data": {
      "text/plain": [
       "0             Furniture\n",
       "1             Furniture\n",
       "2       Office Supplies\n",
       "3             Furniture\n",
       "4       Office Supplies\n",
       "             ...       \n",
       "9988          Furniture\n",
       "9989          Furniture\n",
       "9990         Technology\n",
       "9991    Office Supplies\n",
       "9992    Office Supplies\n",
       "Name: Category, Length: 9993, dtype: category\n",
       "Categories (3, object): ['Furniture', 'Office Supplies', 'Technology']"
      ]
     },
     "execution_count": 29,
     "metadata": {},
     "output_type": "execute_result"
    }
   ],
   "source": [
    "df['Category'] = df['Category'].astype('category')  #change datatype of Category column to category datatype\n",
    "df['Category']"
   ]
  },
  {
   "cell_type": "code",
   "execution_count": 30,
   "metadata": {
    "colab": {
     "base_uri": "https://localhost:8080/"
    },
    "executionInfo": {
     "elapsed": 86,
     "status": "ok",
     "timestamp": 1666127598905,
     "user": {
      "displayName": "Dennis Owusu",
      "userId": "14799459675218623683"
     },
     "user_tz": 0
    },
    "id": "SeiIRb_lnOoa",
    "outputId": "5db3a30b-4b6d-435a-fd80-207252ef1d42"
   },
   "outputs": [
    {
     "data": {
      "text/plain": [
       "count        9993\n",
       "unique         17\n",
       "top       Binders\n",
       "freq         1523\n",
       "Name: SubCategory, dtype: object"
      ]
     },
     "execution_count": 30,
     "metadata": {},
     "output_type": "execute_result"
    }
   ],
   "source": [
    "df['SubCategory'].describe()      #checking summary statistics of the SubCategory column"
   ]
  },
  {
   "cell_type": "code",
   "execution_count": 31,
   "metadata": {
    "executionInfo": {
     "elapsed": 83,
     "status": "ok",
     "timestamp": 1666127598907,
     "user": {
      "displayName": "Dennis Owusu",
      "userId": "14799459675218623683"
     },
     "user_tz": 0
    },
    "id": "cm8cIk0FnOob"
   },
   "outputs": [
    {
     "data": {
      "text/plain": [
       "0         Bookcases\n",
       "1            Chairs\n",
       "2            Labels\n",
       "3            Tables\n",
       "4           Storage\n",
       "           ...     \n",
       "9988    Furnishings\n",
       "9989    Furnishings\n",
       "9990         Phones\n",
       "9991          Paper\n",
       "9992     Appliances\n",
       "Name: SubCategory, Length: 9993, dtype: category\n",
       "Categories (17, object): ['Accessories', 'Appliances', 'Art', 'Binders', ..., 'Phones', 'Storage', 'Supplies', 'Tables']"
      ]
     },
     "execution_count": 31,
     "metadata": {},
     "output_type": "execute_result"
    }
   ],
   "source": [
    "df['SubCategory'] = df['SubCategory'].astype('category')   #change dataype of SubCategory Column\n",
    "df['SubCategory']"
   ]
  },
  {
   "cell_type": "code",
   "execution_count": 32,
   "metadata": {
    "colab": {
     "base_uri": "https://localhost:8080/"
    },
    "executionInfo": {
     "elapsed": 80,
     "status": "ok",
     "timestamp": 1666127598908,
     "user": {
      "displayName": "Dennis Owusu",
      "userId": "14799459675218623683"
     },
     "user_tz": 0
    },
    "id": "4IHtN-AenOoc",
    "outputId": "e6bae05e-8834-4ac7-e87a-5afdd15d5220"
   },
   "outputs": [
    {
     "data": {
      "text/plain": [
       "count     9993.000000\n",
       "mean       229.852846\n",
       "std        623.276074\n",
       "min          0.444000\n",
       "25%         17.280000\n",
       "50%         54.480000\n",
       "75%        209.940000\n",
       "max      22638.480000\n",
       "Name: DiscountedSales, dtype: float64"
      ]
     },
     "execution_count": 32,
     "metadata": {},
     "output_type": "execute_result"
    }
   ],
   "source": [
    "df['DiscountedSales'].describe()  #summary statistics of DiscountedSales Column"
   ]
  },
  {
   "cell_type": "code",
   "execution_count": 33,
   "metadata": {
    "colab": {
     "base_uri": "https://localhost:8080/"
    },
    "executionInfo": {
     "elapsed": 437,
     "status": "ok",
     "timestamp": 1666128819000,
     "user": {
      "displayName": "Dennis Owusu",
      "userId": "14799459675218623683"
     },
     "user_tz": 0
    },
    "id": "gaAd6AhCnOoc",
    "outputId": "a6db6d57-b3d8-4a2c-f84b-f50f5b3ba68a"
   },
   "outputs": [
    {
     "data": {
      "text/plain": [
       "count    9993.000000\n",
       "mean        3.789753\n",
       "std         2.225149\n",
       "min         1.000000\n",
       "25%         2.000000\n",
       "50%         3.000000\n",
       "75%         5.000000\n",
       "max        14.000000\n",
       "Name: Quantity, dtype: float64"
      ]
     },
     "execution_count": 33,
     "metadata": {},
     "output_type": "execute_result"
    }
   ],
   "source": [
    "df['Quantity'].describe()        #summary statistics of Quantity Column"
   ]
  },
  {
   "cell_type": "code",
   "execution_count": 34,
   "metadata": {
    "colab": {
     "base_uri": "https://localhost:8080/"
    },
    "executionInfo": {
     "elapsed": 77,
     "status": "ok",
     "timestamp": 1666127598910,
     "user": {
      "displayName": "Dennis Owusu",
      "userId": "14799459675218623683"
     },
     "user_tz": 0
    },
    "id": "5zORNW-DnOod",
    "outputId": "360df734-e289-4b43-dbc8-fd7331a00f7c"
   },
   "outputs": [
    {
     "data": {
      "text/plain": [
       "count    9993.000000\n",
       "mean        0.156188\n",
       "std         0.206457\n",
       "min         0.000000\n",
       "25%         0.000000\n",
       "50%         0.200000\n",
       "75%         0.200000\n",
       "max         0.800000\n",
       "Name: Discount(%), dtype: float64"
      ]
     },
     "execution_count": 34,
     "metadata": {},
     "output_type": "execute_result"
    }
   ],
   "source": [
    "df['Discount(%)'].describe()       #summary statistics of DiscountAmount Column"
   ]
  },
  {
   "cell_type": "code",
   "execution_count": 35,
   "metadata": {
    "colab": {
     "base_uri": "https://localhost:8080/"
    },
    "executionInfo": {
     "elapsed": 76,
     "status": "ok",
     "timestamp": 1666127598910,
     "user": {
      "displayName": "Dennis Owusu",
      "userId": "14799459675218623683"
     },
     "user_tz": 0
    },
    "id": "GFY0G-jAnOoe",
    "outputId": "48122fa1-f62e-4c91-df9e-3add6db7d53b"
   },
   "outputs": [
    {
     "data": {
      "text/plain": [
       "count    9993.000000\n",
       "mean       28.660971\n",
       "std       234.271476\n",
       "min     -6599.978000\n",
       "25%         1.731000\n",
       "50%         8.671000\n",
       "75%        29.364000\n",
       "max      8399.976000\n",
       "Name: Profit, dtype: float64"
      ]
     },
     "execution_count": 35,
     "metadata": {},
     "output_type": "execute_result"
    }
   ],
   "source": [
    "df['Profit'].describe()             #summary statistics of Profit Column"
   ]
  },
  {
   "cell_type": "code",
   "execution_count": 36,
   "metadata": {
    "colab": {
     "base_uri": "https://localhost:8080/",
     "height": 300
    },
    "executionInfo": {
     "elapsed": 74,
     "status": "ok",
     "timestamp": 1666127598912,
     "user": {
      "displayName": "Dennis Owusu",
      "userId": "14799459675218623683"
     },
     "user_tz": 0
    },
    "id": "wVN1n4g1nOoe",
    "outputId": "7cbb0dac-18b1-4e7a-9e7c-25563bd83e71"
   },
   "outputs": [
    {
     "data": {
      "text/html": [
       "<div>\n",
       "<style scoped>\n",
       "    .dataframe tbody tr th:only-of-type {\n",
       "        vertical-align: middle;\n",
       "    }\n",
       "\n",
       "    .dataframe tbody tr th {\n",
       "        vertical-align: top;\n",
       "    }\n",
       "\n",
       "    .dataframe thead th {\n",
       "        text-align: right;\n",
       "    }\n",
       "</style>\n",
       "<table border=\"1\" class=\"dataframe\">\n",
       "  <thead>\n",
       "    <tr style=\"text-align: right;\">\n",
       "      <th></th>\n",
       "      <th>OrderDate</th>\n",
       "      <th>ShipDate</th>\n",
       "      <th>DiscountedSales</th>\n",
       "      <th>Quantity</th>\n",
       "      <th>Discount(%)</th>\n",
       "      <th>Profit</th>\n",
       "    </tr>\n",
       "  </thead>\n",
       "  <tbody>\n",
       "    <tr>\n",
       "      <th>count</th>\n",
       "      <td>9993</td>\n",
       "      <td>9993</td>\n",
       "      <td>9993.000000</td>\n",
       "      <td>9993.000000</td>\n",
       "      <td>9993.000000</td>\n",
       "      <td>9993.000000</td>\n",
       "    </tr>\n",
       "    <tr>\n",
       "      <th>mean</th>\n",
       "      <td>2016-04-30 01:53:33.089162240</td>\n",
       "      <td>2016-05-04 00:53:19.039327488</td>\n",
       "      <td>229.852846</td>\n",
       "      <td>3.789753</td>\n",
       "      <td>0.156188</td>\n",
       "      <td>28.660971</td>\n",
       "    </tr>\n",
       "    <tr>\n",
       "      <th>min</th>\n",
       "      <td>2014-01-03 00:00:00</td>\n",
       "      <td>2014-01-07 00:00:00</td>\n",
       "      <td>0.444000</td>\n",
       "      <td>1.000000</td>\n",
       "      <td>0.000000</td>\n",
       "      <td>-6599.978000</td>\n",
       "    </tr>\n",
       "    <tr>\n",
       "      <th>25%</th>\n",
       "      <td>2015-05-23 00:00:00</td>\n",
       "      <td>2015-05-27 00:00:00</td>\n",
       "      <td>17.280000</td>\n",
       "      <td>2.000000</td>\n",
       "      <td>0.000000</td>\n",
       "      <td>1.731000</td>\n",
       "    </tr>\n",
       "    <tr>\n",
       "      <th>50%</th>\n",
       "      <td>2016-06-26 00:00:00</td>\n",
       "      <td>2016-06-29 00:00:00</td>\n",
       "      <td>54.480000</td>\n",
       "      <td>3.000000</td>\n",
       "      <td>0.200000</td>\n",
       "      <td>8.671000</td>\n",
       "    </tr>\n",
       "    <tr>\n",
       "      <th>75%</th>\n",
       "      <td>2017-05-14 00:00:00</td>\n",
       "      <td>2017-05-18 00:00:00</td>\n",
       "      <td>209.940000</td>\n",
       "      <td>5.000000</td>\n",
       "      <td>0.200000</td>\n",
       "      <td>29.364000</td>\n",
       "    </tr>\n",
       "    <tr>\n",
       "      <th>max</th>\n",
       "      <td>2017-12-30 00:00:00</td>\n",
       "      <td>2018-01-05 00:00:00</td>\n",
       "      <td>22638.480000</td>\n",
       "      <td>14.000000</td>\n",
       "      <td>0.800000</td>\n",
       "      <td>8399.976000</td>\n",
       "    </tr>\n",
       "    <tr>\n",
       "      <th>std</th>\n",
       "      <td>NaN</td>\n",
       "      <td>NaN</td>\n",
       "      <td>623.276074</td>\n",
       "      <td>2.225149</td>\n",
       "      <td>0.206457</td>\n",
       "      <td>234.271476</td>\n",
       "    </tr>\n",
       "  </tbody>\n",
       "</table>\n",
       "</div>"
      ],
      "text/plain": [
       "                           OrderDate                       ShipDate  \\\n",
       "count                           9993                           9993   \n",
       "mean   2016-04-30 01:53:33.089162240  2016-05-04 00:53:19.039327488   \n",
       "min              2014-01-03 00:00:00            2014-01-07 00:00:00   \n",
       "25%              2015-05-23 00:00:00            2015-05-27 00:00:00   \n",
       "50%              2016-06-26 00:00:00            2016-06-29 00:00:00   \n",
       "75%              2017-05-14 00:00:00            2017-05-18 00:00:00   \n",
       "max              2017-12-30 00:00:00            2018-01-05 00:00:00   \n",
       "std                              NaN                            NaN   \n",
       "\n",
       "       DiscountedSales     Quantity  Discount(%)       Profit  \n",
       "count      9993.000000  9993.000000  9993.000000  9993.000000  \n",
       "mean        229.852846     3.789753     0.156188    28.660971  \n",
       "min           0.444000     1.000000     0.000000 -6599.978000  \n",
       "25%          17.280000     2.000000     0.000000     1.731000  \n",
       "50%          54.480000     3.000000     0.200000     8.671000  \n",
       "75%         209.940000     5.000000     0.200000    29.364000  \n",
       "max       22638.480000    14.000000     0.800000  8399.976000  \n",
       "std         623.276074     2.225149     0.206457   234.271476  "
      ]
     },
     "execution_count": 36,
     "metadata": {},
     "output_type": "execute_result"
    }
   ],
   "source": [
    "df.describe()"
   ]
  },
  {
   "cell_type": "code",
   "execution_count": 37,
   "metadata": {
    "colab": {
     "base_uri": "https://localhost:8080/",
     "height": 175
    },
    "executionInfo": {
     "elapsed": 73,
     "status": "ok",
     "timestamp": 1666127598913,
     "user": {
      "displayName": "Dennis Owusu",
      "userId": "14799459675218623683"
     },
     "user_tz": 0
    },
    "id": "4Cx31IxCnOoe",
    "outputId": "d4318844-61ed-40dd-94a1-b52714e825c3"
   },
   "outputs": [
    {
     "data": {
      "text/html": [
       "<div>\n",
       "<style scoped>\n",
       "    .dataframe tbody tr th:only-of-type {\n",
       "        vertical-align: middle;\n",
       "    }\n",
       "\n",
       "    .dataframe tbody tr th {\n",
       "        vertical-align: top;\n",
       "    }\n",
       "\n",
       "    .dataframe thead th {\n",
       "        text-align: right;\n",
       "    }\n",
       "</style>\n",
       "<table border=\"1\" class=\"dataframe\">\n",
       "  <thead>\n",
       "    <tr style=\"text-align: right;\">\n",
       "      <th></th>\n",
       "      <th>OrderID</th>\n",
       "      <th>CustomerID</th>\n",
       "      <th>CustomerName</th>\n",
       "      <th>Country</th>\n",
       "      <th>City</th>\n",
       "      <th>State</th>\n",
       "      <th>PostalCode</th>\n",
       "      <th>Region</th>\n",
       "      <th>ProductID</th>\n",
       "      <th>ProductName</th>\n",
       "    </tr>\n",
       "  </thead>\n",
       "  <tbody>\n",
       "    <tr>\n",
       "      <th>count</th>\n",
       "      <td>9993</td>\n",
       "      <td>9993</td>\n",
       "      <td>9993</td>\n",
       "      <td>9993</td>\n",
       "      <td>9993</td>\n",
       "      <td>9993</td>\n",
       "      <td>9993</td>\n",
       "      <td>9993</td>\n",
       "      <td>9993</td>\n",
       "      <td>9993</td>\n",
       "    </tr>\n",
       "    <tr>\n",
       "      <th>unique</th>\n",
       "      <td>5009</td>\n",
       "      <td>793</td>\n",
       "      <td>793</td>\n",
       "      <td>1</td>\n",
       "      <td>531</td>\n",
       "      <td>49</td>\n",
       "      <td>631</td>\n",
       "      <td>4</td>\n",
       "      <td>1862</td>\n",
       "      <td>1850</td>\n",
       "    </tr>\n",
       "    <tr>\n",
       "      <th>top</th>\n",
       "      <td>CA-2017-100111</td>\n",
       "      <td>WB-21850</td>\n",
       "      <td>William Brown</td>\n",
       "      <td>United States</td>\n",
       "      <td>New York City</td>\n",
       "      <td>California</td>\n",
       "      <td>10035</td>\n",
       "      <td>West</td>\n",
       "      <td>OFF-PA-10001970</td>\n",
       "      <td>Staple envelope</td>\n",
       "    </tr>\n",
       "    <tr>\n",
       "      <th>freq</th>\n",
       "      <td>14</td>\n",
       "      <td>37</td>\n",
       "      <td>37</td>\n",
       "      <td>9993</td>\n",
       "      <td>915</td>\n",
       "      <td>2001</td>\n",
       "      <td>263</td>\n",
       "      <td>3203</td>\n",
       "      <td>19</td>\n",
       "      <td>48</td>\n",
       "    </tr>\n",
       "  </tbody>\n",
       "</table>\n",
       "</div>"
      ],
      "text/plain": [
       "               OrderID CustomerID   CustomerName        Country  \\\n",
       "count             9993       9993           9993           9993   \n",
       "unique            5009        793            793              1   \n",
       "top     CA-2017-100111   WB-21850  William Brown  United States   \n",
       "freq                14         37             37           9993   \n",
       "\n",
       "                 City       State PostalCode Region        ProductID  \\\n",
       "count            9993        9993       9993   9993             9993   \n",
       "unique            531          49        631      4             1862   \n",
       "top     New York City  California      10035   West  OFF-PA-10001970   \n",
       "freq              915        2001        263   3203               19   \n",
       "\n",
       "            ProductName  \n",
       "count              9993  \n",
       "unique             1850  \n",
       "top     Staple envelope  \n",
       "freq                 48  "
      ]
     },
     "execution_count": 37,
     "metadata": {},
     "output_type": "execute_result"
    }
   ],
   "source": [
    "df.describe(include='object')\n",
    "# print(df.describe(include='all'))"
   ]
  },
  {
   "cell_type": "code",
   "execution_count": 38,
   "metadata": {
    "executionInfo": {
     "elapsed": 72,
     "status": "ok",
     "timestamp": 1666127598913,
     "user": {
      "displayName": "Dennis Owusu",
      "userId": "14799459675218623683"
     },
     "user_tz": 0
    },
    "id": "LZodN1JXnOof"
   },
   "outputs": [],
   "source": [
    "df_month = df[\"OrderDate\"].dt.month_name()   #adding a month column\n",
    "df.insert(loc = 3, column = 'OrderMonth', value = df_month)"
   ]
  },
  {
   "cell_type": "code",
   "execution_count": 39,
   "metadata": {
    "executionInfo": {
     "elapsed": 72,
     "status": "ok",
     "timestamp": 1666127598914,
     "user": {
      "displayName": "Dennis Owusu",
      "userId": "14799459675218623683"
     },
     "user_tz": 0
    },
    "id": "sX0S1ugynOof"
   },
   "outputs": [],
   "source": [
    "df_year = pd.DatetimeIndex(df['OrderDate']).year  #adding a new column called Year \n",
    "df.insert(loc = 4, column = 'OrderYear', value = df_year)"
   ]
  },
  {
   "cell_type": "code",
   "execution_count": 40,
   "metadata": {
    "executionInfo": {
     "elapsed": 80,
     "status": "ok",
     "timestamp": 1666127598924,
     "user": {
      "displayName": "Dennis Owusu",
      "userId": "14799459675218623683"
     },
     "user_tz": 0
    },
    "id": "WjgVlwWdnC3a"
   },
   "outputs": [
    {
     "data": {
      "text/plain": [
       "0       2016\n",
       "1       2016\n",
       "2       2016\n",
       "3       2015\n",
       "4       2015\n",
       "        ... \n",
       "9988    2014\n",
       "9989    2017\n",
       "9990    2017\n",
       "9991    2017\n",
       "9992    2017\n",
       "Name: OrderYear, Length: 9993, dtype: object"
      ]
     },
     "execution_count": 40,
     "metadata": {},
     "output_type": "execute_result"
    }
   ],
   "source": [
    "df['OrderYear'] = df['OrderYear'].astype('str')  #changing OrderYear column from integer to string\n",
    "df['OrderYear']"
   ]
  },
  {
   "cell_type": "code",
   "execution_count": 41,
   "metadata": {
    "colab": {
     "base_uri": "https://localhost:8080/"
    },
    "executionInfo": {
     "elapsed": 80,
     "status": "ok",
     "timestamp": 1666127598925,
     "user": {
      "displayName": "Dennis Owusu",
      "userId": "14799459675218623683"
     },
     "user_tz": 0
    },
    "id": "o9Pp_IL-nOof",
    "outputId": "74afd6d7-06fd-4263-c97e-b7835582cecd"
   },
   "outputs": [
    {
     "data": {
      "text/plain": [
       "0        261.96\n",
       "1        731.94\n",
       "2         14.62\n",
       "3       1741.05\n",
       "4         27.96\n",
       "         ...   \n",
       "9988      31.56\n",
       "9989      91.96\n",
       "9990     323.22\n",
       "9991      29.60\n",
       "9992     243.16\n",
       "Length: 9993, dtype: float64"
      ]
     },
     "execution_count": 41,
     "metadata": {},
     "output_type": "execute_result"
    }
   ],
   "source": [
    "original_sales = (1/(1-df['Discount(%)']))*df['DiscountedSales']\n",
    "original_sales"
   ]
  },
  {
   "cell_type": "code",
   "execution_count": 42,
   "metadata": {
    "executionInfo": {
     "elapsed": 73,
     "status": "ok",
     "timestamp": 1666127598926,
     "user": {
      "displayName": "Dennis Owusu",
      "userId": "14799459675218623683"
     },
     "user_tz": 0
    },
    "id": "ikhGOp1K9Iga"
   },
   "outputs": [],
   "source": [
    "df['OriginalSales'] = original_sales"
   ]
  },
  {
   "cell_type": "code",
   "execution_count": 43,
   "metadata": {
    "executionInfo": {
     "elapsed": 73,
     "status": "ok",
     "timestamp": 1666127598927,
     "user": {
      "displayName": "Dennis Owusu",
      "userId": "14799459675218623683"
     },
     "user_tz": 0
    },
    "id": "A3S4x2qEnOog"
   },
   "outputs": [
    {
     "data": {
      "text/plain": [
       "0       130.98\n",
       "1       243.98\n",
       "2         7.31\n",
       "3       348.21\n",
       "4        13.98\n",
       "         ...  \n",
       "9988     10.52\n",
       "9989     45.98\n",
       "9990    161.61\n",
       "9991      7.40\n",
       "9992    121.58\n",
       "Name: UnitPrice, Length: 9993, dtype: float64"
      ]
     },
     "execution_count": 43,
     "metadata": {},
     "output_type": "execute_result"
    }
   ],
   "source": [
    "df['UnitPrice'] = original_sales/df['Quantity']\n",
    "df['UnitPrice']"
   ]
  },
  {
   "cell_type": "code",
   "execution_count": 44,
   "metadata": {
    "colab": {
     "base_uri": "https://localhost:8080/"
    },
    "executionInfo": {
     "elapsed": 72,
     "status": "ok",
     "timestamp": 1666127598929,
     "user": {
      "displayName": "Dennis Owusu",
      "userId": "14799459675218623683"
     },
     "user_tz": 0
    },
    "id": "0RfdZ2jvKklq",
    "outputId": "8d15c683-faa7-4146-fc5c-6ce50bf679f1"
   },
   "outputs": [
    {
     "data": {
      "text/plain": [
       "0        220.0464\n",
       "1        512.3580\n",
       "2          7.7486\n",
       "3       1340.6085\n",
       "4         19.8516\n",
       "          ...    \n",
       "9988      21.1452\n",
       "9989      76.3268\n",
       "9990     239.1828\n",
       "9991      16.2800\n",
       "9992     170.2120\n",
       "Length: 9993, dtype: float64"
      ]
     },
     "execution_count": 44,
     "metadata": {},
     "output_type": "execute_result"
    }
   ],
   "source": [
    "df_cost_price = df['DiscountedSales'] - df['Profit']\n",
    "df_cost_price"
   ]
  },
  {
   "cell_type": "code",
   "execution_count": 45,
   "metadata": {
    "executionInfo": {
     "elapsed": 66,
     "status": "ok",
     "timestamp": 1666127598931,
     "user": {
      "displayName": "Dennis Owusu",
      "userId": "14799459675218623683"
     },
     "user_tz": 0
    },
    "id": "mCbJ6GsgDmRt"
   },
   "outputs": [],
   "source": [
    "df['CostPrice'] = df_cost_price #Calculating Discounted Amount of each product and adding it to the dataset as a new column"
   ]
  },
  {
   "cell_type": "code",
   "execution_count": 46,
   "metadata": {
    "executionInfo": {
     "elapsed": 66,
     "status": "ok",
     "timestamp": 1666127598932,
     "user": {
      "displayName": "Dennis Owusu",
      "userId": "14799459675218623683"
     },
     "user_tz": 0
    },
    "id": "IsqMdYTyEclZ"
   },
   "outputs": [],
   "source": [
    "df['DiscountedAmount'] = df['OriginalSales'] - df['DiscountedSales'] #Calculating Profit Percentage of each product and adding it to the dataset as a new column"
   ]
  },
  {
   "cell_type": "code",
   "execution_count": 47,
   "metadata": {},
   "outputs": [],
   "source": [
    "df['Profit%']=(df['Profit']/df['CostPrice'])*100 # With the order date and delivery date columns n the dataset, delivery day lengths were calculated and added as a new column to the dataset"
   ]
  },
  {
   "cell_type": "code",
   "execution_count": 48,
   "metadata": {
    "executionInfo": {
     "elapsed": 69,
     "status": "ok",
     "timestamp": 1666127599587,
     "user": {
      "displayName": "Dennis Owusu",
      "userId": "14799459675218623683"
     },
     "user_tz": 0
    },
    "id": "7swDTX6fnOok"
   },
   "outputs": [],
   "source": [
    "df_interval = df[\"ShipDate\"] - df[\"OrderDate\"]\n",
    "df_interval = df_interval / np.timedelta64(1,'D')\n",
    "df.insert(loc = 5, column = 'DeliveryDays', value = df_interval)"
   ]
  },
  {
   "cell_type": "code",
   "execution_count": 49,
   "metadata": {
    "executionInfo": {
     "elapsed": 69,
     "status": "ok",
     "timestamp": 1666127599588,
     "user": {
      "displayName": "Dennis Owusu",
      "userId": "14799459675218623683"
     },
     "user_tz": 0
    },
    "id": "VfbWjT9BzJ4n"
   },
   "outputs": [],
   "source": [
    "df['DeliveryDays'] = df['DeliveryDays'].astype('int')   #changing datatype of deliverydays column from int to str\n",
    "df['Reliability'] = np.where(df['DeliveryDays'] >= 5, 'Delayed', 'Timely')  #confirmation on whether deliveries were timely or delayed."
   ]
  },
  {
   "cell_type": "markdown",
   "metadata": {},
   "source": [
    "### EXPLORATORY DATA ANALYSIS"
   ]
  },
  {
   "cell_type": "code",
   "execution_count": 50,
   "metadata": {
    "scrolled": false
   },
   "outputs": [
    {
     "name": "stderr",
     "output_type": "stream",
     "text": [
      "C:\\Users\\Shrrivathsan S\\AppData\\Local\\Temp\\ipykernel_17888\\216419523.py:16: FutureWarning: \n",
      "\n",
      "Passing `palette` without assigning `hue` is deprecated and will be removed in v0.14.0. Assign the `x` variable to `hue` and set `legend=False` for the same effect.\n",
      "\n",
      "  sns.countplot(data=df,x=col,palette='Blues')\n"
     ]
    },
    {
     "data": {
      "image/png": "[encoded data removed]",
      "text/plain": [
       "<Figure size 800x400 with 1 Axes>"
      ]
     },
     "metadata": {},
     "output_type": "display_data"
    },
    {
     "name": "stderr",
     "output_type": "stream",
     "text": [
      "C:\\Users\\Shrrivathsan S\\AppData\\Local\\Temp\\ipykernel_17888\\216419523.py:16: FutureWarning: \n",
      "\n",
      "Passing `palette` without assigning `hue` is deprecated and will be removed in v0.14.0. Assign the `x` variable to `hue` and set `legend=False` for the same effect.\n",
      "\n",
      "  sns.countplot(data=df,x=col,palette='Blues')\n"
     ]
    },
    {
     "data": {
      "image/png": "[encoded data removed]",
      "text/plain": [
       "<Figure size 800x400 with 1 Axes>"
      ]
     },
     "metadata": {},
     "output_type": "display_data"
    },
    {
     "data": {
      "image/png": "[encoded data removed]",
      "text/plain": [
       "<Figure size 2000x400 with 1 Axes>"
      ]
     },
     "metadata": {},
     "output_type": "display_data"
    },
    {
     "data": {
      "image/png": "[encoded data removed]",
      "text/plain": [
       "<Figure size 2000x400 with 1 Axes>"
      ]
     },
     "metadata": {},
     "output_type": "display_data"
    },
    {
     "name": "stderr",
     "output_type": "stream",
     "text": [
      "C:\\Users\\Shrrivathsan S\\AppData\\Local\\Temp\\ipykernel_17888\\216419523.py:16: FutureWarning: \n",
      "\n",
      "Passing `palette` without assigning `hue` is deprecated and will be removed in v0.14.0. Assign the `x` variable to `hue` and set `legend=False` for the same effect.\n",
      "\n",
      "  sns.countplot(data=df,x=col,palette='Blues')\n"
     ]
    },
    {
     "data": {
      "image/png": "[encoded data removed]",
      "text/plain": [
       "<Figure size 800x400 with 1 Axes>"
      ]
     },
     "metadata": {},
     "output_type": "display_data"
    },
    {
     "name": "stderr",
     "output_type": "stream",
     "text": [
      "C:\\Users\\Shrrivathsan S\\AppData\\Local\\Temp\\ipykernel_17888\\216419523.py:16: FutureWarning: \n",
      "\n",
      "Passing `palette` without assigning `hue` is deprecated and will be removed in v0.14.0. Assign the `x` variable to `hue` and set `legend=False` for the same effect.\n",
      "\n",
      "  sns.countplot(data=df,x=col,palette='Blues')\n"
     ]
    },
    {
     "data": {
      "image/png": "[encoded data removed]",
      "text/plain": [
       "<Figure size 800x400 with 1 Axes>"
      ]
     },
     "metadata": {},
     "output_type": "display_data"
    },
    {
     "data": {
      "image/png": "[encoded data removed]",
      "text/plain": [
       "<Figure size 2000x400 with 1 Axes>"
      ]
     },
     "metadata": {},
     "output_type": "display_data"
    }
   ],
   "source": [
    "imp_categotical_features=df[['ShipMode','Segment', 'City', 'State','Region','Category', 'SubCategory']]\n",
    "\n",
    "for col in imp_categotical_features:\n",
    "    width=8\n",
    "    n=len(df[col].unique())\n",
    "    if n > 15:\n",
    "        width=20\n",
    "        plt.figure(figsize=(width,4))\n",
    "        temp=pd.DataFrame(df[col].value_counts().sort_values(ascending=False)[:35],columns=[col])\n",
    "        sns.barplot(data=temp,x=temp.index,y=col,palette= 'Greens')\n",
    "        plt.ylabel(\"count\")\n",
    "        plt.xlabel(col)\n",
    "        plt.xticks(rotation=60)   \n",
    "    else:\n",
    "        plt.figure(figsize=(width,4))\n",
    "        sns.countplot(data=df,x=col,palette='Blues')\n",
    "    plt.show()"
   ]
  },
  {
   "cell_type": "markdown",
   "metadata": {},
   "source": [
    "**COUNT OF SUB-CATEGORY**"
   ]
  },
  {
   "cell_type": "code",
   "execution_count": 51,
   "metadata": {
    "colab": {
     "base_uri": "https://localhost:8080/",
     "height": 344
    },
    "executionInfo": {
     "elapsed": 82,
     "status": "ok",
     "timestamp": 1666127598907,
     "user": {
      "displayName": "Dennis Owusu",
      "userId": "14799459675218623683"
     },
     "user_tz": 0
    },
    "id": "HyFsCXmEnOob",
    "outputId": "9b5e6fc6-6e67-464f-993f-533e5ee0e196"
   },
   "outputs": [
    {
     "data": {
      "image/png": "[encoded data removed]",
      "text/plain": [
       "<Figure size 640x480 with 1 Axes>"
      ]
     },
     "metadata": {},
     "output_type": "display_data"
    }
   ],
   "source": [
    "sns.countplot(x='SubCategory', data = df)\n",
    "sns.set(rc={'figure.figsize':(12,5)})\n",
    "sns.barplot(data=temp,x=temp.index,y=col,palette= 'Blues')\n",
    "plt.xticks(rotation=60)\n",
    "plt.title('Count of SubCategory')\n",
    "plt.show()"
   ]
  },
  {
   "cell_type": "markdown",
   "metadata": {},
   "source": [
    "**SALES AND PROFIT ANALYSIS**"
   ]
  },
  {
   "cell_type": "code",
   "execution_count": 52,
   "metadata": {},
   "outputs": [
    {
     "name": "stderr",
     "output_type": "stream",
     "text": [
      "C:\\Users\\Shrrivathsan S\\AppData\\Local\\Temp\\ipykernel_17888\\2832889678.py:1: FutureWarning: The default of observed=False is deprecated and will be changed to True in a future version of pandas. Pass observed=False to retain current behavior or observed=True to adopt the future default and silence this warning.\n",
      "  sales_profit_segment1 = df.groupby('Segment')[['DiscountedSales','Profit']].sum().reset_index()\n"
     ]
    }
   ],
   "source": [
    "sales_profit_segment1 = df.groupby('Segment')[['DiscountedSales','Profit']].sum().reset_index()\n",
    "#print(profit_segment1)\n",
    "sales_profit_segment1 = sales_profit_segment1.reset_index()\n",
    "sales_profit_segment1 = sales_profit_segment1.sort_values(by='DiscountedSales', ascending=False)   "
   ]
  },
  {
   "cell_type": "code",
   "execution_count": 53,
   "metadata": {},
   "outputs": [
    {
     "data": {
      "image/png": "[encoded data removed]",
      "text/plain": [
       "<Figure size 1200x300 with 1 Axes>"
      ]
     },
     "metadata": {},
     "output_type": "display_data"
    },
    {
     "data": {
      "image/png": "[encoded data removed]",
      "text/plain": [
       "<Figure size 1200x300 with 1 Axes>"
      ]
     },
     "metadata": {},
     "output_type": "display_data"
    }
   ],
   "source": [
    "plt.figure(figsize=(12,3))\n",
    "plt.barh(sales_profit_segment1['Segment'],sales_profit_segment1['DiscountedSales'], \n",
    "        color = 'g',\n",
    "        alpha = 1,\n",
    "       height=0.5)\n",
    "\n",
    "plt.title('Total Discounted Sales Per Segment',fontdict={'fontsize':15})\n",
    "plt.ylabel('DiscountedSales')\n",
    "plt.xlabel('Segment')\n",
    "plt.show()\n",
    "\n",
    "plt.figure(figsize=(12,3))\n",
    "plt.barh(sales_profit_segment1['Segment'],sales_profit_segment1['Profit'], \n",
    "        color = 'g',\n",
    "        alpha = 1,\n",
    "       height=0.5)\n",
    "\n",
    "plt.title('Total Profit Per Segment',fontdict={'fontsize':15})\n",
    "plt.ylabel('Profit')\n",
    "plt.xlabel('Segment')\n",
    "plt.show()"
   ]
  },
  {
   "cell_type": "code",
   "execution_count": 54,
   "metadata": {
    "colab": {
     "base_uri": "https://localhost:8080/",
     "height": 237
    },
    "executionInfo": {
     "elapsed": 23,
     "status": "ok",
     "timestamp": 1666127601406,
     "user": {
      "displayName": "Dennis Owusu",
      "userId": "14799459675218623683"
     },
     "user_tz": 0
    },
    "id": "tZqa9lGNRD1z",
    "outputId": "1832a787-d646-4547-c5f9-b99b51e7c4d7"
   },
   "outputs": [
    {
     "name": "stderr",
     "output_type": "stream",
     "text": [
      "C:\\Users\\Shrrivathsan S\\AppData\\Local\\Temp\\ipykernel_17888\\1978003313.py:1: FutureWarning: The default of observed=False is deprecated and will be changed to True in a future version of pandas. Pass observed=False to retain current behavior or observed=True to adopt the future default and silence this warning.\n",
      "  df2_avg = pd.DataFrame(df.groupby(['SubCategory'])[['DiscountedSales', 'Profit']].mean())\n"
     ]
    },
    {
     "data": {
      "text/html": [
       "<div>\n",
       "<style scoped>\n",
       "    .dataframe tbody tr th:only-of-type {\n",
       "        vertical-align: middle;\n",
       "    }\n",
       "\n",
       "    .dataframe tbody tr th {\n",
       "        vertical-align: top;\n",
       "    }\n",
       "\n",
       "    .dataframe thead th {\n",
       "        text-align: right;\n",
       "    }\n",
       "</style>\n",
       "<table border=\"1\" class=\"dataframe\">\n",
       "  <thead>\n",
       "    <tr style=\"text-align: right;\">\n",
       "      <th></th>\n",
       "      <th>SubCategory</th>\n",
       "      <th>DiscountedSales</th>\n",
       "      <th>Profit</th>\n",
       "    </tr>\n",
       "  </thead>\n",
       "  <tbody>\n",
       "    <tr>\n",
       "      <th>0</th>\n",
       "      <td>Copiers</td>\n",
       "      <td>2198.941618</td>\n",
       "      <td>817.909190</td>\n",
       "    </tr>\n",
       "    <tr>\n",
       "      <th>1</th>\n",
       "      <td>Machines</td>\n",
       "      <td>1645.553313</td>\n",
       "      <td>29.432669</td>\n",
       "    </tr>\n",
       "    <tr>\n",
       "      <th>2</th>\n",
       "      <td>Tables</td>\n",
       "      <td>648.794771</td>\n",
       "      <td>-55.565771</td>\n",
       "    </tr>\n",
       "    <tr>\n",
       "      <th>3</th>\n",
       "      <td>Chairs</td>\n",
       "      <td>532.739823</td>\n",
       "      <td>43.185430</td>\n",
       "    </tr>\n",
       "    <tr>\n",
       "      <th>4</th>\n",
       "      <td>Bookcases</td>\n",
       "      <td>503.859633</td>\n",
       "      <td>-15.230509</td>\n",
       "    </tr>\n",
       "  </tbody>\n",
       "</table>\n",
       "</div>"
      ],
      "text/plain": [
       "  SubCategory  DiscountedSales      Profit\n",
       "0     Copiers      2198.941618  817.909190\n",
       "1    Machines      1645.553313   29.432669\n",
       "2      Tables       648.794771  -55.565771\n",
       "3      Chairs       532.739823   43.185430\n",
       "4   Bookcases       503.859633  -15.230509"
      ]
     },
     "execution_count": 54,
     "metadata": {},
     "output_type": "execute_result"
    }
   ],
   "source": [
    "df2_avg = pd.DataFrame(df.groupby(['SubCategory'])[['DiscountedSales', 'Profit']].mean())\n",
    "\n",
    "# Sort by descending order according to sales\n",
    "sub_df2 = pd.DataFrame(df2_avg.sort_values('DiscountedSales', ascending = False))\n",
    "sub_df2 = sub_df2.reset_index()\n",
    "sub_df2.head(5)"
   ]
  },
  {
   "cell_type": "code",
   "execution_count": 55,
   "metadata": {
    "colab": {
     "base_uri": "https://localhost:8080/",
     "height": 237
    },
    "executionInfo": {
     "elapsed": 22,
     "status": "ok",
     "timestamp": 1666127601407,
     "user": {
      "displayName": "Dennis Owusu",
      "userId": "14799459675218623683"
     },
     "user_tz": 0
    },
    "id": "j3HcEDcLSCAs",
    "outputId": "158a40e0-90e0-4ab7-ac4c-b252b3f16e64"
   },
   "outputs": [
    {
     "data": {
      "text/html": [
       "<div>\n",
       "<style scoped>\n",
       "    .dataframe tbody tr th:only-of-type {\n",
       "        vertical-align: middle;\n",
       "    }\n",
       "\n",
       "    .dataframe tbody tr th {\n",
       "        vertical-align: top;\n",
       "    }\n",
       "\n",
       "    .dataframe thead th {\n",
       "        text-align: right;\n",
       "    }\n",
       "</style>\n",
       "<table border=\"1\" class=\"dataframe\">\n",
       "  <thead>\n",
       "    <tr style=\"text-align: right;\">\n",
       "      <th></th>\n",
       "      <th>index</th>\n",
       "      <th>SubCategory</th>\n",
       "      <th>DiscountedSales</th>\n",
       "      <th>Profit</th>\n",
       "    </tr>\n",
       "  </thead>\n",
       "  <tbody>\n",
       "    <tr>\n",
       "      <th>0</th>\n",
       "      <td>0</td>\n",
       "      <td>Copiers</td>\n",
       "      <td>2198.941618</td>\n",
       "      <td>817.909190</td>\n",
       "    </tr>\n",
       "    <tr>\n",
       "      <th>1</th>\n",
       "      <td>9</td>\n",
       "      <td>Accessories</td>\n",
       "      <td>215.974604</td>\n",
       "      <td>54.111788</td>\n",
       "    </tr>\n",
       "    <tr>\n",
       "      <th>2</th>\n",
       "      <td>5</td>\n",
       "      <td>Phones</td>\n",
       "      <td>371.211534</td>\n",
       "      <td>50.073938</td>\n",
       "    </tr>\n",
       "    <tr>\n",
       "      <th>3</th>\n",
       "      <td>3</td>\n",
       "      <td>Chairs</td>\n",
       "      <td>532.739823</td>\n",
       "      <td>43.185430</td>\n",
       "    </tr>\n",
       "    <tr>\n",
       "      <th>4</th>\n",
       "      <td>8</td>\n",
       "      <td>Appliances</td>\n",
       "      <td>230.755710</td>\n",
       "      <td>38.922758</td>\n",
       "    </tr>\n",
       "  </tbody>\n",
       "</table>\n",
       "</div>"
      ],
      "text/plain": [
       "   index  SubCategory  DiscountedSales      Profit\n",
       "0      0      Copiers      2198.941618  817.909190\n",
       "1      9  Accessories       215.974604   54.111788\n",
       "2      5       Phones       371.211534   50.073938\n",
       "3      3       Chairs       532.739823   43.185430\n",
       "4      8   Appliances       230.755710   38.922758"
      ]
     },
     "execution_count": 55,
     "metadata": {},
     "output_type": "execute_result"
    }
   ],
   "source": [
    " # Sort by descending order according to profit\n",
    "sub_profit_df2 = pd.DataFrame(sub_df2.sort_values('Profit', ascending = False))\n",
    "sub_profit_df2 = sub_profit_df2.reset_index()\n",
    "sub_profit_df2.head(5)"
   ]
  },
  {
   "cell_type": "code",
   "execution_count": 56,
   "metadata": {
    "colab": {
     "base_uri": "https://localhost:8080/",
     "height": 457
    },
    "executionInfo": {
     "elapsed": 1098,
     "status": "ok",
     "timestamp": 1666127602484,
     "user": {
      "displayName": "Dennis Owusu",
      "userId": "14799459675218623683"
     },
     "user_tz": 0
    },
    "id": "2Ei1lPXgSCEi",
    "outputId": "9f26c1f4-b1d0-42f5-a963-1a23d90c96fb",
    "scrolled": false
   },
   "outputs": [
    {
     "name": "stderr",
     "output_type": "stream",
     "text": [
      "C:\\Users\\Shrrivathsan S\\AppData\\Local\\Temp\\ipykernel_17888\\3111455675.py:3: FutureWarning: \n",
      "\n",
      "Passing `palette` without assigning `hue` is deprecated and will be removed in v0.14.0. Assign the `x` variable to `hue` and set `legend=False` for the same effect.\n",
      "\n",
      "  subcat1 = sns.barplot(data = sub_df2, x = sub_df2.SubCategory, y = sub_df2.DiscountedSales, ax=axis[0], palette = \"Blues\",\n",
      "C:\\Users\\Shrrivathsan S\\AppData\\Local\\Temp\\ipykernel_17888\\3111455675.py:8: UserWarning: set_ticklabels() should only be used with a fixed number of ticks, i.e. after set_ticks() or using a FixedLocator.\n",
      "  subcat1.set_xticklabels(subcat1.get_xticklabels(),rotation = \"vertical\", size = 10)\n",
      "C:\\Users\\Shrrivathsan S\\AppData\\Local\\Temp\\ipykernel_17888\\3111455675.py:9: FutureWarning: \n",
      "\n",
      "Passing `palette` without assigning `hue` is deprecated and will be removed in v0.14.0. Assign the `x` variable to `hue` and set `legend=False` for the same effect.\n",
      "\n",
      "  subcat2 = sns.barplot(data = sub_profit_df2, x = sub_profit_df2.SubCategory, y = sub_profit_df2.Profit, ax=axis[1],\n",
      "C:\\Users\\Shrrivathsan S\\AppData\\Local\\Temp\\ipykernel_17888\\3111455675.py:14: UserWarning: set_ticklabels() should only be used with a fixed number of ticks, i.e. after set_ticks() or using a FixedLocator.\n",
      "  subcat2.set_xticklabels(subcat2.get_xticklabels(),rotation = \"vertical\", size = 10)\n"
     ]
    },
    {
     "data": {
      "image/png": "[encoded data removed]",
      "text/plain": [
       "<Figure size 1200x400 with 2 Axes>"
      ]
     },
     "metadata": {},
     "output_type": "display_data"
    }
   ],
   "source": [
    "sns.set_theme(style=\"whitegrid\")\n",
    "figure, axis = plt.subplots(1, 2, figsize=(12, 4))\n",
    "subcat1 = sns.barplot(data = sub_df2, x = sub_df2.SubCategory, y = sub_df2.DiscountedSales, ax=axis[0], palette = \"Blues\",\n",
    "                      order=sub_df2.sort_values('DiscountedSales').SubCategory)\n",
    "\n",
    "\n",
    "subcat1.set(title=\"Best Selling Sub-Category\")\n",
    "subcat1.set_xticklabels(subcat1.get_xticklabels(),rotation = \"vertical\", size = 10)\n",
    "subcat2 = sns.barplot(data = sub_profit_df2, x = sub_profit_df2.SubCategory, y = sub_profit_df2.Profit, ax=axis[1], \n",
    "                      palette = \"Blues\",order=sub_profit_df2.sort_values('Profit').SubCategory)\n",
    "\n",
    "\n",
    "subcat2.set(title = \"Most Profitable Sub-Category\")\n",
    "subcat2.set_xticklabels(subcat2.get_xticklabels(),rotation = \"vertical\", size = 10)\n",
    "figure.tight_layout()\n",
    "plt.show()"
   ]
  },
  {
   "cell_type": "markdown",
   "metadata": {},
   "source": [
    "**BEST PERFORMING CATEGORY**"
   ]
  },
  {
   "cell_type": "code",
   "execution_count": 57,
   "metadata": {
    "colab": {
     "base_uri": "https://localhost:8080/",
     "height": 295
    },
    "executionInfo": {
     "elapsed": 89,
     "status": "ok",
     "timestamp": 1666127598904,
     "user": {
      "displayName": "Dennis Owusu",
      "userId": "14799459675218623683"
     },
     "user_tz": 0
    },
    "id": "8p7ViDQRnOoa",
    "outputId": "1afce3a9-9edc-4953-babb-8911b0d32bba"
   },
   "outputs": [
    {
     "data": {
      "image/png": "[encoded data removed]",
      "text/plain": [
       "<Figure size 1200x500 with 1 Axes>"
      ]
     },
     "metadata": {},
     "output_type": "display_data"
    }
   ],
   "source": [
    "sns.countplot(x='Category', data = df)\n",
    "plt.title('Count of Category')\n",
    "plt.show() "
   ]
  },
  {
   "cell_type": "markdown",
   "metadata": {},
   "source": [
    "**BEST PERFORMING PRODUCT**"
   ]
  },
  {
   "cell_type": "code",
   "execution_count": 58,
   "metadata": {},
   "outputs": [],
   "source": [
    "fur_entr=df[df['Category']=='Furniture']"
   ]
  },
  {
   "cell_type": "code",
   "execution_count": 59,
   "metadata": {},
   "outputs": [
    {
     "name": "stderr",
     "output_type": "stream",
     "text": [
      "C:\\Users\\Shrrivathsan S\\AppData\\Local\\Temp\\ipykernel_17888\\2515494058.py:1: FutureWarning: The default of observed=False is deprecated and will be changed to True in a future version of pandas. Pass observed=False to retain current behavior or observed=True to adopt the future default and silence this warning.\n",
      "  fur_group=fur_entr.groupby(['Category', 'ProductName'])['Quantity'].sum().reset_index().sort_values('Quantity',\n"
     ]
    },
    {
     "data": {
      "text/html": [
       "<div>\n",
       "<style scoped>\n",
       "    .dataframe tbody tr th:only-of-type {\n",
       "        vertical-align: middle;\n",
       "    }\n",
       "\n",
       "    .dataframe tbody tr th {\n",
       "        vertical-align: top;\n",
       "    }\n",
       "\n",
       "    .dataframe thead th {\n",
       "        text-align: right;\n",
       "    }\n",
       "</style>\n",
       "<table border=\"1\" class=\"dataframe\">\n",
       "  <thead>\n",
       "    <tr style=\"text-align: right;\">\n",
       "      <th></th>\n",
       "      <th>Quantity</th>\n",
       "    </tr>\n",
       "    <tr>\n",
       "      <th>ProductName</th>\n",
       "      <th></th>\n",
       "    </tr>\n",
       "  </thead>\n",
       "  <tbody>\n",
       "    <tr>\n",
       "      <th>KI Adjustable-Height Table</th>\n",
       "      <td>74</td>\n",
       "    </tr>\n",
       "    <tr>\n",
       "      <th>Situations Contoured Folding Chairs, 4/Set</th>\n",
       "      <td>64</td>\n",
       "    </tr>\n",
       "    <tr>\n",
       "      <th>Staple-based wall hangings</th>\n",
       "      <td>62</td>\n",
       "    </tr>\n",
       "    <tr>\n",
       "      <th>Chromcraft Round Conference Tables</th>\n",
       "      <td>61</td>\n",
       "    </tr>\n",
       "    <tr>\n",
       "      <th>Eldon Wave Desk Accessories</th>\n",
       "      <td>61</td>\n",
       "    </tr>\n",
       "    <tr>\n",
       "      <th>...</th>\n",
       "      <td>...</td>\n",
       "    </tr>\n",
       "    <tr>\n",
       "      <th>Tenex Chairmats For Use with Hard Floors</th>\n",
       "      <td>0</td>\n",
       "    </tr>\n",
       "    <tr>\n",
       "      <th>Tenex Chairmats For Use With Carpeted Floors</th>\n",
       "      <td>0</td>\n",
       "    </tr>\n",
       "    <tr>\n",
       "      <th>Tenex Chairmat w/ Average Lip, 45\" x 53\"</th>\n",
       "      <td>0</td>\n",
       "    </tr>\n",
       "    <tr>\n",
       "      <th>Tenex Carpeted, Granite-Look or Clear Contemporary Contour Shape Chair Mats</th>\n",
       "      <td>0</td>\n",
       "    </tr>\n",
       "    <tr>\n",
       "      <th>Safco Drafting Table</th>\n",
       "      <td>0</td>\n",
       "    </tr>\n",
       "  </tbody>\n",
       "</table>\n",
       "<p>1140 rows × 1 columns</p>\n",
       "</div>"
      ],
      "text/plain": [
       "                                                    Quantity\n",
       "ProductName                                                 \n",
       "KI Adjustable-Height Table                                74\n",
       "Situations Contoured Folding Chairs, 4/Set                64\n",
       "Staple-based wall hangings                                62\n",
       "Chromcraft Round Conference Tables                        61\n",
       "Eldon Wave Desk Accessories                               61\n",
       "...                                                      ...\n",
       "Tenex Chairmats For Use with Hard Floors                   0\n",
       "Tenex Chairmats For Use With Carpeted Floors               0\n",
       "Tenex Chairmat w/ Average Lip, 45\" x 53\"                   0\n",
       "Tenex Carpeted, Granite-Look or Clear Contempor...         0\n",
       "Safco Drafting Table                                       0\n",
       "\n",
       "[1140 rows x 1 columns]"
      ]
     },
     "execution_count": 59,
     "metadata": {},
     "output_type": "execute_result"
    }
   ],
   "source": [
    "fur_group=fur_entr.groupby(['Category', 'ProductName'])['Quantity'].sum().reset_index().sort_values('Quantity', \n",
    "                                                                                                    ascending = False)\n",
    "fur_group=fur_group[['ProductName','Quantity']].set_index('ProductName')\n",
    "fur_group"
   ]
  },
  {
   "cell_type": "code",
   "execution_count": 60,
   "metadata": {},
   "outputs": [
    {
     "data": {
      "text/plain": [
       "<Axes: ylabel='Quantity'>"
      ]
     },
     "execution_count": 60,
     "metadata": {},
     "output_type": "execute_result"
    },
    {
     "data": {
      "image/png": "[encoded data removed]",
      "text/plain": [
       "<Figure size 400x800 with 1 Axes>"
      ]
     },
     "metadata": {},
     "output_type": "display_data"
    }
   ],
   "source": [
    "plt.figure(figsize=(4,8))\n",
    "fur_group.head(5)['Quantity'].plot.pie(autopct=\"%1.1f%%\",colors=['#1f77b4', '#ff7f0e', '#2ca02c', '#d62728', '#9467bd'])"
   ]
  },
  {
   "cell_type": "markdown",
   "metadata": {},
   "source": [
    "- It is observed in the above line of code that people residing in Western part of US tend to order more from superstore."
   ]
  },
  {
   "cell_type": "markdown",
   "metadata": {},
   "source": [
    "**MONTHLY AND YEARLY ANALYSIS**"
   ]
  },
  {
   "cell_type": "code",
   "execution_count": 61,
   "metadata": {
    "colab": {
     "base_uri": "https://localhost:8080/",
     "height": 424
    },
    "executionInfo": {
     "elapsed": 914,
     "status": "ok",
     "timestamp": 1666127603380,
     "user": {
      "displayName": "Dennis Owusu",
      "userId": "14799459675218623683"
     },
     "user_tz": 0
    },
    "id": "adZH_S3XSCQ_",
    "outputId": "f04e98d6-6118-487b-9a65-5c337709b285",
    "scrolled": false
   },
   "outputs": [
    {
     "data": {
      "text/html": [
       "<div>\n",
       "<style scoped>\n",
       "    .dataframe tbody tr th:only-of-type {\n",
       "        vertical-align: middle;\n",
       "    }\n",
       "\n",
       "    .dataframe tbody tr th {\n",
       "        vertical-align: top;\n",
       "    }\n",
       "\n",
       "    .dataframe thead th {\n",
       "        text-align: right;\n",
       "    }\n",
       "</style>\n",
       "<table border=\"1\" class=\"dataframe\">\n",
       "  <thead>\n",
       "    <tr style=\"text-align: right;\">\n",
       "      <th></th>\n",
       "      <th>DiscountedSales</th>\n",
       "      <th>Quantity</th>\n",
       "      <th>Profit</th>\n",
       "      <th>DiscountedAmount</th>\n",
       "    </tr>\n",
       "    <tr>\n",
       "      <th>OrderMonth</th>\n",
       "      <th></th>\n",
       "      <th></th>\n",
       "      <th></th>\n",
       "      <th></th>\n",
       "    </tr>\n",
       "  </thead>\n",
       "  <tbody>\n",
       "    <tr>\n",
       "      <th>April</th>\n",
       "      <td>137480.7566</td>\n",
       "      <td>2445</td>\n",
       "      <td>11599.4951</td>\n",
       "      <td>38533.1834</td>\n",
       "    </tr>\n",
       "    <tr>\n",
       "      <th>August</th>\n",
       "      <td>159044.0630</td>\n",
       "      <td>2784</td>\n",
       "      <td>21776.9384</td>\n",
       "      <td>35948.4570</td>\n",
       "    </tr>\n",
       "    <tr>\n",
       "      <th>December</th>\n",
       "      <td>325293.5035</td>\n",
       "      <td>5419</td>\n",
       "      <td>43369.1919</td>\n",
       "      <td>77608.6265</td>\n",
       "    </tr>\n",
       "    <tr>\n",
       "      <th>February</th>\n",
       "      <td>59751.2514</td>\n",
       "      <td>1067</td>\n",
       "      <td>10294.6107</td>\n",
       "      <td>10018.4986</td>\n",
       "    </tr>\n",
       "    <tr>\n",
       "      <th>January</th>\n",
       "      <td>94924.8356</td>\n",
       "      <td>1475</td>\n",
       "      <td>9134.4461</td>\n",
       "      <td>24335.0744</td>\n",
       "    </tr>\n",
       "    <tr>\n",
       "      <th>July</th>\n",
       "      <td>147238.0970</td>\n",
       "      <td>2705</td>\n",
       "      <td>13832.6648</td>\n",
       "      <td>41251.3630</td>\n",
       "    </tr>\n",
       "    <tr>\n",
       "      <th>June</th>\n",
       "      <td>152718.6793</td>\n",
       "      <td>2680</td>\n",
       "      <td>21285.7954</td>\n",
       "      <td>31385.1107</td>\n",
       "    </tr>\n",
       "    <tr>\n",
       "      <th>March</th>\n",
       "      <td>205005.4888</td>\n",
       "      <td>2564</td>\n",
       "      <td>28594.6872</td>\n",
       "      <td>56516.7712</td>\n",
       "    </tr>\n",
       "    <tr>\n",
       "      <th>May</th>\n",
       "      <td>155028.8117</td>\n",
       "      <td>2791</td>\n",
       "      <td>22411.3078</td>\n",
       "      <td>35075.9583</td>\n",
       "    </tr>\n",
       "    <tr>\n",
       "      <th>November</th>\n",
       "      <td>352461.0710</td>\n",
       "      <td>5775</td>\n",
       "      <td>35468.4265</td>\n",
       "      <td>93858.0990</td>\n",
       "    </tr>\n",
       "    <tr>\n",
       "      <th>October</th>\n",
       "      <td>200322.9847</td>\n",
       "      <td>3104</td>\n",
       "      <td>31784.0413</td>\n",
       "      <td>42630.5553</td>\n",
       "    </tr>\n",
       "    <tr>\n",
       "      <th>September</th>\n",
       "      <td>307649.9457</td>\n",
       "      <td>5062</td>\n",
       "      <td>36857.4753</td>\n",
       "      <td>79451.8943</td>\n",
       "    </tr>\n",
       "  </tbody>\n",
       "</table>\n",
       "</div>"
      ],
      "text/plain": [
       "            DiscountedSales  Quantity      Profit  DiscountedAmount\n",
       "OrderMonth                                                         \n",
       "April           137480.7566      2445  11599.4951        38533.1834\n",
       "August          159044.0630      2784  21776.9384        35948.4570\n",
       "December        325293.5035      5419  43369.1919        77608.6265\n",
       "February         59751.2514      1067  10294.6107        10018.4986\n",
       "January          94924.8356      1475   9134.4461        24335.0744\n",
       "July            147238.0970      2705  13832.6648        41251.3630\n",
       "June            152718.6793      2680  21285.7954        31385.1107\n",
       "March           205005.4888      2564  28594.6872        56516.7712\n",
       "May             155028.8117      2791  22411.3078        35075.9583\n",
       "November        352461.0710      5775  35468.4265        93858.0990\n",
       "October         200322.9847      3104  31784.0413        42630.5553\n",
       "September       307649.9457      5062  36857.4753        79451.8943"
      ]
     },
     "execution_count": 61,
     "metadata": {},
     "output_type": "execute_result"
    }
   ],
   "source": [
    "# Which month does the company records more sales?\n",
    "month_sales_df = pd.DataFrame(df.groupby(['OrderMonth'])[['DiscountedSales', 'Quantity', 'Profit', 'DiscountedAmount']].sum())\n",
    "month_sales_df = month_sales_df.reset_index()\n",
    "month_sales_df = month_sales_df.set_index('OrderMonth')\n",
    "month_sales_df"
   ]
  },
  {
   "cell_type": "code",
   "execution_count": 62,
   "metadata": {},
   "outputs": [
    {
     "data": {
      "image/png": "[encoded data removed]",
      "text/plain": [
       "<Figure size 2000x300 with 1 Axes>"
      ]
     },
     "metadata": {},
     "output_type": "display_data"
    }
   ],
   "source": [
    "month_sales_df.plot(kind = 'bar', figsize = (20,3))\n",
    "plt.xticks(rotation = 45)\n",
    "plt.yscale('log')"
   ]
  },
  {
   "cell_type": "markdown",
   "metadata": {
    "id": "msoN_s59F634"
   },
   "source": [
    "**WHICH CUSTOMER SEGMENT IS THE MOST PROFITABLE?**"
   ]
  },
  {
   "cell_type": "code",
   "execution_count": 63,
   "metadata": {
    "colab": {
     "base_uri": "https://localhost:8080/",
     "height": 175
    },
    "executionInfo": {
     "elapsed": 406,
     "status": "ok",
     "timestamp": 1666130151783,
     "user": {
      "displayName": "Dennis Owusu",
      "userId": "14799459675218623683"
     },
     "user_tz": 0
    },
    "id": "rw-2jrbnF_1m",
    "outputId": "a1a5ce0d-9484-4d0b-9edc-2d461472ab66"
   },
   "outputs": [
    {
     "name": "stderr",
     "output_type": "stream",
     "text": [
      "C:\\Users\\Shrrivathsan S\\AppData\\Local\\Temp\\ipykernel_17888\\1165472477.py:1: FutureWarning: The default of observed=False is deprecated and will be changed to True in a future version of pandas. Pass observed=False to retain current behavior or observed=True to adopt the future default and silence this warning.\n",
      "  df4 = pd.DataFrame(df.groupby(['Segment'])[['Profit']].mean())\n"
     ]
    },
    {
     "data": {
      "text/html": [
       "<div>\n",
       "<style scoped>\n",
       "    .dataframe tbody tr th:only-of-type {\n",
       "        vertical-align: middle;\n",
       "    }\n",
       "\n",
       "    .dataframe tbody tr th {\n",
       "        vertical-align: top;\n",
       "    }\n",
       "\n",
       "    .dataframe thead th {\n",
       "        text-align: right;\n",
       "    }\n",
       "</style>\n",
       "<table border=\"1\" class=\"dataframe\">\n",
       "  <thead>\n",
       "    <tr style=\"text-align: right;\">\n",
       "      <th></th>\n",
       "      <th>Profit</th>\n",
       "    </tr>\n",
       "    <tr>\n",
       "      <th>Segment</th>\n",
       "      <th></th>\n",
       "    </tr>\n",
       "  </thead>\n",
       "  <tbody>\n",
       "    <tr>\n",
       "      <th>Consumer</th>\n",
       "      <td>25.836873</td>\n",
       "    </tr>\n",
       "    <tr>\n",
       "      <th>Corporate</th>\n",
       "      <td>30.456667</td>\n",
       "    </tr>\n",
       "    <tr>\n",
       "      <th>Home Office</th>\n",
       "      <td>33.844409</td>\n",
       "    </tr>\n",
       "  </tbody>\n",
       "</table>\n",
       "</div>"
      ],
      "text/plain": [
       "                Profit\n",
       "Segment               \n",
       "Consumer     25.836873\n",
       "Corporate    30.456667\n",
       "Home Office  33.844409"
      ]
     },
     "execution_count": 63,
     "metadata": {},
     "output_type": "execute_result"
    }
   ],
   "source": [
    "df4 = pd.DataFrame(df.groupby(['Segment'])[['Profit']].mean())\n",
    "df4"
   ]
  },
  {
   "cell_type": "code",
   "execution_count": 64,
   "metadata": {
    "id": "L2BTJWMgGAG9"
   },
   "outputs": [
    {
     "name": "stderr",
     "output_type": "stream",
     "text": [
      "C:\\Users\\Shrrivathsan S\\AppData\\Local\\Temp\\ipykernel_17888\\4516033.py:2: FutureWarning: \n",
      "\n",
      "Passing `palette` without assigning `hue` is deprecated and will be removed in v0.14.0. Assign the `x` variable to `hue` and set `legend=False` for the same effect.\n",
      "\n",
      "  sns.barplot(data = df4, x = df4.index, y = df4.Profit, palette = \"Blues\")\n"
     ]
    },
    {
     "data": {
      "image/png": "[encoded data removed]",
      "text/plain": [
       "<Figure size 1200x500 with 1 Axes>"
      ]
     },
     "metadata": {},
     "output_type": "display_data"
    }
   ],
   "source": [
    "sns.set_theme(style=\"whitegrid\")\n",
    "sns.barplot(data = df4, x = df4.index, y = df4.Profit, palette = \"Blues\")\n",
    "plt.title(\"Customer Segment Profitability\")\n",
    "plt.show()"
   ]
  },
  {
   "cell_type": "markdown",
   "metadata": {
    "id": "7i2IXB8mGXKE"
   },
   "source": [
    "**WHICH IS THE PREFERRED SHIP MODE?**"
   ]
  },
  {
   "cell_type": "code",
   "execution_count": 65,
   "metadata": {
    "colab": {
     "base_uri": "https://localhost:8080/",
     "height": 235
    },
    "executionInfo": {
     "elapsed": 25,
     "status": "error",
     "timestamp": 1666130219693,
     "user": {
      "displayName": "Dennis Owusu",
      "userId": "14799459675218623683"
     },
     "user_tz": 0
    },
    "id": "9EstxHJT7aSC",
    "outputId": "aa7d02fb-da5a-4ae1-aace-7758107bd9bc"
   },
   "outputs": [
    {
     "name": "stderr",
     "output_type": "stream",
     "text": [
      "C:\\Users\\Shrrivathsan S\\AppData\\Local\\Temp\\ipykernel_17888\\3559973611.py:4: FutureWarning: The default of observed=False is deprecated and will be changed to True in a future version of pandas. Pass observed=False to retain current behavior or observed=True to adopt the future default and silence this warning.\n",
      "  df_stackb = df_stackb.groupby(['ShipMode']).sum().reset_index()\n"
     ]
    },
    {
     "data": {
      "text/plain": [
       "<matplotlib.legend.Legend at 0x2686a68f4d0>"
      ]
     },
     "execution_count": 65,
     "metadata": {},
     "output_type": "execute_result"
    },
    {
     "data": {
      "image/png": "[encoded data removed]",
      "text/plain": [
       "<Figure size 1000x1500 with 1 Axes>"
      ]
     },
     "metadata": {},
     "output_type": "display_data"
    }
   ],
   "source": [
    "# Taking a subset of data (To keep things simple)\n",
    "df_stackb = df[['ShipMode','DiscountedSales','Profit']]\n",
    "# taking a groupby on category and then ship mode...\n",
    "df_stackb = df_stackb.groupby(['ShipMode']).sum().reset_index()\n",
    "# df_stackb\n",
    "\n",
    "# Visualizing the Stacked BarChart\n",
    "plt.figure(figsize=[10,15])\n",
    "plt.subplot(3,1,1)\n",
    "plt.bar(x=df_stackb['ShipMode'], height=df_stackb['DiscountedSales'], color='skyblue')\n",
    "plt.bar(x=df_stackb['ShipMode'], height=df_stackb['Profit'], bottom=df_stackb['DiscountedSales'], color='green')\n",
    "plt.title(\"Sales & Profit Across Ship Modes\", size=20, pad=20)\n",
    "plt.legend(['Sales','Profit'])"
   ]
  },
  {
   "cell_type": "markdown",
   "metadata": {},
   "source": [
    "#### CUSTOMER REGIONAL ANALYSIS"
   ]
  },
  {
   "cell_type": "code",
   "execution_count": 66,
   "metadata": {},
   "outputs": [
    {
     "data": {
      "text/html": [
       "<div>\n",
       "<style scoped>\n",
       "    .dataframe tbody tr th:only-of-type {\n",
       "        vertical-align: middle;\n",
       "    }\n",
       "\n",
       "    .dataframe tbody tr th {\n",
       "        vertical-align: top;\n",
       "    }\n",
       "\n",
       "    .dataframe thead th {\n",
       "        text-align: right;\n",
       "    }\n",
       "</style>\n",
       "<table border=\"1\" class=\"dataframe\">\n",
       "  <thead>\n",
       "    <tr style=\"text-align: right;\">\n",
       "      <th></th>\n",
       "      <th>Region</th>\n",
       "      <th>Profit</th>\n",
       "    </tr>\n",
       "  </thead>\n",
       "  <tbody>\n",
       "    <tr>\n",
       "      <th>0</th>\n",
       "      <td>Central</td>\n",
       "      <td>39706.3625</td>\n",
       "    </tr>\n",
       "    <tr>\n",
       "      <th>1</th>\n",
       "      <td>East</td>\n",
       "      <td>91534.8388</td>\n",
       "    </tr>\n",
       "    <tr>\n",
       "      <th>2</th>\n",
       "      <td>South</td>\n",
       "      <td>46749.4303</td>\n",
       "    </tr>\n",
       "    <tr>\n",
       "      <th>3</th>\n",
       "      <td>West</td>\n",
       "      <td>108418.4489</td>\n",
       "    </tr>\n",
       "  </tbody>\n",
       "</table>\n",
       "</div>"
      ],
      "text/plain": [
       "    Region       Profit\n",
       "0  Central   39706.3625\n",
       "1     East   91534.8388\n",
       "2    South   46749.4303\n",
       "3     West  108418.4489"
      ]
     },
     "execution_count": 66,
     "metadata": {},
     "output_type": "execute_result"
    }
   ],
   "source": [
    "region_analysis = pd.DataFrame(df.groupby(['Region'])['Profit'].sum().reset_index())\n",
    "region_analysis"
   ]
  },
  {
   "cell_type": "code",
   "execution_count": 67,
   "metadata": {},
   "outputs": [
    {
     "data": {
      "image/png": "[encoded data removed]",
      "text/plain": [
       "<Figure size 1200x500 with 1 Axes>"
      ]
     },
     "metadata": {},
     "output_type": "display_data"
    }
   ],
   "source": [
    "plt.pie(region_analysis.Profit, \n",
    "        labels = region_analysis.Region, \n",
    "        startangle = 90, autopct = \"%1.0f%%\", \n",
    "        explode = [0, 0, 0, 0.1])\n",
    "plt.title(\"Most Profitable by Region\")\n",
    "plt.show()"
   ]
  }
 ],
 "metadata": {
  "colab": {
   "collapsed_sections": [
    "eOt-jUxMnOoJ",
    "QWZy-eu-nOol"
   ],
   "provenance": []
  },
  "kernelspec": {
   "display_name": "base",
   "language": "python",
   "name": "python3"
  },
  "language_info": {
   "codemirror_mode": {
    "name": "ipython",
    "version": 3
   },
   "file_extension": ".py",
   "mimetype": "text/x-python",
   "name": "python",
   "nbconvert_exporter": "python",
   "pygments_lexer": "ipython3",
   "version": "3.13.5"
  }
 },
 "nbformat": 4,
 "nbformat_minor": 1
}
